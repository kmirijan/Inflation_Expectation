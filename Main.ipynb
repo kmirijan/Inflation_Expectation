{
 "cells": [
  {
   "cell_type": "markdown",
   "id": "bdb27e70",
   "metadata": {},
   "source": [
    "# Replication of Regression from Inflation Expectation Paper"
   ]
  },
  {
   "cell_type": "markdown",
   "id": "fa898123",
   "metadata": {},
   "source": [
    "## Data"
   ]
  },
  {
   "cell_type": "code",
   "execution_count": 2,
   "id": "37c9113d",
   "metadata": {},
   "outputs": [],
   "source": [
    "import numpy as np\n",
    "import pandas as pd\n",
    "import scipy.stats as stats\n",
    "import statsmodels\n",
    "import matplotlib.pyplot as plt\n",
    "import statsmodels.api as sm\n",
    "from statsmodels.miscmodels.ordinal_model import OrderedModel"
   ]
  },
  {
   "cell_type": "code",
   "execution_count": 3,
   "id": "2ee85f43",
   "metadata": {},
   "outputs": [],
   "source": [
    "#Read in data\n",
    "df=pd.read_csv(\"data/data.csv\")"
   ]
  },
  {
   "cell_type": "code",
   "execution_count": 4,
   "id": "af19338e",
   "metadata": {},
   "outputs": [],
   "source": [
    "#Period between 1984:1 to 2012:12\n",
    "cleaned_data=df[(df[\"yyyymm\"] >= 198401)&(df[\"yyyymm\"] <= 201212)]\n",
    "#Only keep first time responces\n",
    "cleaned_data=cleaned_data[cleaned_data[\"datepr\"].isnull()]"
   ]
  },
  {
   "cell_type": "code",
   "execution_count": 5,
   "id": "576753b8",
   "metadata": {},
   "outputs": [],
   "source": [
    "#Extra Transforms\n",
    "\n",
    "#Age\n",
    "cleaned_data[\"AGE2\"] = cleaned_data[\"AGE\"]*cleaned_data[\"AGE\"]\n",
    "cleaned_data[\"AGE3\"] = cleaned_data[\"AGE2\"]*cleaned_data[\"AGE\"]\n",
    "\n",
    "#Inflation DLZ\n",
    "cleaned_data[\"PX1_ZLB\"] = cleaned_data[\"PX1\"]*cleaned_data[\"ZLB\"]\n",
    "\n",
    "trans = [\"AGE2\",\"AGE3\",\"PX1_ZLB\"]"
   ]
  },
  {
   "cell_type": "code",
   "execution_count": 6,
   "id": "a8c627f6",
   "metadata": {},
   "outputs": [],
   "source": [
    "#Inflation Expectation\n",
    "pi=[\"PX1\",\"PX1_ZLB\"]"
   ]
  },
  {
   "cell_type": "code",
   "execution_count": 7,
   "id": "71e39434",
   "metadata": {},
   "outputs": [],
   "source": [
    "#Control for demographics\n",
    "\n",
    "#Age cubed left out for convergence issues. Has almost 0 effect\n",
    "control = [\"SEX\",\"MARRY\",\"ECLGRD\",\"AFRICAN\",\"HISPANIC\",\"NATIVE\",\"ASIAN\",\"WEST\",\n",
    "       \"NORTHEAST\",\"SOUTH\",\"FAMSIZE\",\"AGE\",\"AGE2\",\"INCOME\"]"
   ]
  },
  {
   "cell_type": "code",
   "execution_count": 8,
   "id": "202fc7cf",
   "metadata": {},
   "outputs": [],
   "source": [
    "#other controls\n",
    "ocontrol = [\"ZLB\",\"PEXP\",\"RINC\",\"RATEX\",\"BUS12\",\"BUS5\",\"UNEMP\",\"PAGO\",\"GOVT\",\n",
    "            \"BUS12AG\",\"PX1DISP\",\"VXO\",\"FFR\",\"UNRATE\",\"INFLATION\",\"INFLVOLA\",\"CPIDURABLES\"]"
   ]
  },
  {
   "cell_type": "code",
   "execution_count": 9,
   "id": "5ed37f3b",
   "metadata": {},
   "outputs": [],
   "source": [
    "#Indep Variables\n",
    "x = cleaned_data[pi+ocontrol+control]\n",
    "y = cleaned_data.DUR"
   ]
  },
  {
   "cell_type": "code",
   "execution_count": 66,
   "id": "1a1e7126",
   "metadata": {},
   "outputs": [
    {
     "data": {
      "text/plain": [
       " 1.0    50554\n",
       "-1.0    14681\n",
       " 0.0     2440\n",
       "Name: DUR, dtype: int64"
      ]
     },
     "execution_count": 66,
     "metadata": {},
     "output_type": "execute_result"
    }
   ],
   "source": [
    "#Dependent Variable\n",
    "pd.concat([x,y], axis=1).dropna().DUR.value_counts()"
   ]
  },
  {
   "cell_type": "code",
   "execution_count": 60,
   "id": "81ca20a5",
   "metadata": {},
   "outputs": [
    {
     "data": {
      "text/plain": [
       " 1.0    72115\n",
       "-1.0    22450\n",
       " 0.0     4527\n",
       "Name: DUR, dtype: int64"
      ]
     },
     "execution_count": 60,
     "metadata": {},
     "output_type": "execute_result"
    }
   ],
   "source": [
    "y.dropna().value_counts()"
   ]
  },
  {
   "cell_type": "markdown",
   "id": "89c8f628",
   "metadata": {},
   "source": [
    "## Probit Model"
   ]
  },
  {
   "cell_type": "code",
   "execution_count": 11,
   "id": "d17441fe",
   "metadata": {},
   "outputs": [
    {
     "name": "stdout",
     "output_type": "stream",
     "text": [
      "Optimization terminated successfully.\n",
      "         Current function value: 0.624525\n",
      "         Iterations: 108\n",
      "         Function evaluations: 118\n",
      "         Gradient evaluations: 118\n",
      "                             OrderedModel Results                             \n",
      "==============================================================================\n",
      "Dep. Variable:                    DUR   Log-Likelihood:                -42265.\n",
      "Model:                   OrderedModel   AIC:                         8.460e+04\n",
      "Method:            Maximum Likelihood   BIC:                         8.492e+04\n",
      "Date:                Fri, 06 May 2022                                         \n",
      "Time:                        16:28:22                                         \n",
      "No. Observations:               67675                                         \n",
      "Df Residuals:                   67640                                         \n",
      "Df Model:                          35                                         \n",
      "===============================================================================\n",
      "                  coef    std err          z      P>|z|      [0.025      0.975]\n",
      "-------------------------------------------------------------------------------\n",
      "PX1            -0.0009      0.001     -0.632      0.527      -0.004       0.002\n",
      "PX1_ZLB        -0.0112      0.003     -3.644      0.000      -0.017      -0.005\n",
      "ZLB             0.1094      0.031      3.484      0.000       0.048       0.171\n",
      "PEXP            0.0252      0.009      2.771      0.006       0.007       0.043\n",
      "RINC            0.0211      0.008      2.550      0.011       0.005       0.037\n",
      "RATEX           0.0437      0.007      5.874      0.000       0.029       0.058\n",
      "BUS12           0.1293      0.007     18.999      0.000       0.116       0.143\n",
      "BUS5            0.0627      0.007      9.245      0.000       0.049       0.076\n",
      "UNEMP          -0.0652      0.009     -7.292      0.000      -0.083      -0.048\n",
      "PAGO            0.1191      0.007     17.636      0.000       0.106       0.132\n",
      "GOVT            0.1116      0.009     12.739      0.000       0.094       0.129\n",
      "BUS12AG         0.0018      0.000      5.479      0.000       0.001       0.002\n",
      "PX1DISP        -0.0803      0.015     -5.504      0.000      -0.109      -0.052\n",
      "VXO            -0.0051      0.001     -6.780      0.000      -0.007      -0.004\n",
      "FFR             0.0221      0.004      6.184      0.000       0.015       0.029\n",
      "UNRATE         -0.0503      0.006     -7.745      0.000      -0.063      -0.038\n",
      "INFLATION      -0.0221      0.006     -3.641      0.000      -0.034      -0.010\n",
      "INFLVOLA       -0.0172      0.007     -2.611      0.009      -0.030      -0.004\n",
      "CPIDURABLES     0.0016      0.002      0.962      0.336      -0.002       0.005\n",
      "SEX            -0.0700      0.011     -6.406      0.000      -0.091      -0.049\n",
      "MARRY          -0.0029      0.013     -0.221      0.825      -0.029       0.023\n",
      "ECLGRD         -0.0341      0.012     -2.855      0.004      -0.058      -0.011\n",
      "AFRICAN        -0.0126      0.020     -0.642      0.521      -0.051       0.026\n",
      "HISPANIC       -0.1191      0.025     -4.796      0.000      -0.168      -0.070\n",
      "NATIVE         -0.0387      0.055     -0.701      0.483      -0.147       0.069\n",
      "ASIAN          -0.1469      0.039     -3.761      0.000      -0.223      -0.070\n",
      "WEST           -0.0371      0.016     -2.343      0.019      -0.068      -0.006\n",
      "NORTHEAST      -0.0090      0.016     -0.560      0.576      -0.041       0.023\n",
      "SOUTH          -0.0126      0.014     -0.905      0.365      -0.040       0.015\n",
      "FAMSIZE        -0.0221      0.005     -4.692      0.000      -0.031      -0.013\n",
      "AGE            -0.0054      0.002     -2.796      0.005      -0.009      -0.002\n",
      "AGE2         5.424e-05   1.94e-05      2.798      0.005    1.62e-05    9.22e-05\n",
      "INCOME          0.0531      0.008      6.541      0.000       0.037       0.069\n",
      "-1.0/0.0       -1.4698      0.084    -17.602      0.000      -1.633      -1.306\n",
      "0.0/1.0        -2.0560      0.020   -103.949      0.000      -2.095      -2.017\n",
      "===============================================================================\n"
     ]
    }
   ],
   "source": [
    "model = OrderedModel(y,x,distr='probit',missing=\"drop\")\n",
    "res = model.fit(method='bfgs', maxiter = 500000)\n",
    "print(res.summary())"
   ]
  },
  {
   "cell_type": "code",
   "execution_count": 58,
   "id": "6b393dd3",
   "metadata": {},
   "outputs": [
    {
     "data": {
      "text/plain": [
       "PX1            0.001461\n",
       "PX1_ZLB        0.003083\n",
       "ZLB            0.031399\n",
       "PEXP           0.009084\n",
       "RINC           0.008273\n",
       "RATEX          0.007439\n",
       "BUS12          0.006804\n",
       "BUS5           0.006781\n",
       "UNEMP          0.008948\n",
       "PAGO           0.006755\n",
       "GOVT           0.008759\n",
       "BUS12AG        0.000334\n",
       "PX1DISP        0.014579\n",
       "VXO            0.000757\n",
       "FFR            0.003571\n",
       "UNRATE         0.006490\n",
       "INFLATION      0.006079\n",
       "INFLVOLA       0.006579\n",
       "CPIDURABLES    0.001622\n",
       "SEX            0.010934\n",
       "MARRY          0.013259\n",
       "ECLGRD         0.011959\n",
       "AFRICAN        0.019606\n",
       "HISPANIC       0.024838\n",
       "NATIVE         0.055192\n",
       "ASIAN          0.039057\n",
       "WEST           0.015850\n",
       "NORTHEAST      0.016074\n",
       "SOUTH          0.013937\n",
       "FAMSIZE        0.004703\n",
       "AGE            0.001942\n",
       "AGE2           0.000019\n",
       "INCOME         0.008115\n",
       "-1.0/0.0       0.083501\n",
       "0.0/1.0        0.019779\n",
       "dtype: float64"
      ]
     },
     "execution_count": 58,
     "metadata": {},
     "output_type": "execute_result"
    }
   ],
   "source": [
    "res.bse"
   ]
  },
  {
   "cell_type": "code",
   "execution_count": 47,
   "id": "2a03695c",
   "metadata": {},
   "outputs": [
    {
     "data": {
      "text/plain": [
       "array([ 0.        ,  0.        ,  0.        ,  0.        ,  0.        ,\n",
       "        0.        ,  0.        ,  0.        ,  0.        ,  0.        ,\n",
       "        0.        ,  0.        ,  0.        ,  0.        ,  0.        ,\n",
       "        0.        ,  0.        ,  0.        ,  0.        ,  0.        ,\n",
       "        0.        ,  0.        ,  0.        ,  0.        ,  0.        ,\n",
       "        0.        ,  0.        ,  0.        ,  0.        ,  0.        ,\n",
       "        0.        ,  0.        ,  0.        , -0.78259028, -2.14152527])"
      ]
     },
     "execution_count": 47,
     "metadata": {},
     "output_type": "execute_result"
    }
   ],
   "source": [
    "model.start_params"
   ]
  },
  {
   "cell_type": "code",
   "execution_count": 12,
   "id": "e93b914e",
   "metadata": {},
   "outputs": [
    {
     "data": {
      "text/plain": [
       "array([       -inf, -1.46981364, -1.34185355,         inf])"
      ]
     },
     "execution_count": 12,
     "metadata": {},
     "output_type": "execute_result"
    }
   ],
   "source": [
    "num_of_thresholds = 2\n",
    "model.transform_threshold_params(res.params[-num_of_thresholds:])"
   ]
  },
  {
   "cell_type": "markdown",
   "id": "5231ca78",
   "metadata": {},
   "source": [
    "# Robustness Checks"
   ]
  },
  {
   "cell_type": "markdown",
   "id": "176f4ae7",
   "metadata": {},
   "source": [
    "## Excluding Idiosyncratic Expecttions Controls"
   ]
  },
  {
   "cell_type": "code",
   "execution_count": 13,
   "id": "6f70b5fa",
   "metadata": {},
   "outputs": [],
   "source": [
    "model_data = pd.concat([x,y],axis=1)"
   ]
  },
  {
   "cell_type": "code",
   "execution_count": 14,
   "id": "8e202d4e",
   "metadata": {},
   "outputs": [
    {
     "name": "stdout",
     "output_type": "stream",
     "text": [
      "Optimization terminated successfully.\n",
      "         Current function value: 0.626448\n",
      "         Iterations: 101\n",
      "         Function evaluations: 109\n",
      "         Gradient evaluations: 109\n"
     ]
    }
   ],
   "source": [
    "#Excluding Policy Trust\n",
    "model_data = model_data.drop([\"GOVT\"],axis=1)\n",
    "y = model_data[\"DUR\"]\n",
    "x = model_data.drop([\"DUR\"],axis=1)\n",
    "\n",
    "model = OrderedModel(y,x,distr='probit',missing=\"drop\")\n",
    "res = model.fit(method='bfgs')\n",
    "#print(res.summary())"
   ]
  },
  {
   "cell_type": "code",
   "execution_count": 15,
   "id": "6b2cfed2",
   "metadata": {},
   "outputs": [
    {
     "name": "stdout",
     "output_type": "stream",
     "text": [
      "Optimization terminated successfully.\n",
      "         Current function value: 0.651363\n",
      "         Iterations: 93\n",
      "         Function evaluations: 100\n",
      "         Gradient evaluations: 100\n"
     ]
    }
   ],
   "source": [
    "#Excluding All idiosyncratic variables\n",
    "model_data = model_data.drop([\"PEXP\",\"RINC\",\"RATEX\",\"BUS12\",\"BUS5\",\"UNEMP\"],axis=1)\n",
    "y = model_data[\"DUR\"]\n",
    "x = model_data.drop([\"DUR\"],axis=1)\n",
    "\n",
    "model = OrderedModel(y,x,distr='probit',missing=\"drop\")\n",
    "res = model.fit(method='bfgs')\n",
    "#print(res.summary())"
   ]
  },
  {
   "cell_type": "code",
   "execution_count": 16,
   "id": "a635d6e6",
   "metadata": {},
   "outputs": [],
   "source": [
    "#Reset\n",
    "x = cleaned_data[pi+ocontrol+control]\n",
    "y = cleaned_data[\"DUR\"]\n",
    "model_data = pd.concat([x,y],axis=1)"
   ]
  },
  {
   "cell_type": "code",
   "execution_count": 17,
   "id": "5061fac1",
   "metadata": {},
   "outputs": [
    {
     "name": "stdout",
     "output_type": "stream",
     "text": [
      "Optimization terminated successfully.\n",
      "         Current function value: 0.677328\n",
      "         Iterations: 109\n",
      "         Function evaluations: 116\n",
      "         Gradient evaluations: 116\n"
     ]
    }
   ],
   "source": [
    "# With Gas Price Expectations, Home Ownership and sub prob\n",
    "model_data = pd.concat([cleaned_data[[\"GAS1\",\"HOMEOWN\",\"PINC2\",\"PJOB\"]],model_data], axis=1)\n",
    "model_data = model_data[cleaned_data[\"yyyymm\"] >= 199801]\n",
    "\n",
    "y = model_data[\"DUR\"]\n",
    "x = model_data.drop([\"DUR\"],axis=1)\n",
    "\n",
    "model = OrderedModel(y,x,distr='probit',missing=\"drop\")\n",
    "res = model.fit(method='bfgs')\n",
    "#print(res.summary())"
   ]
  },
  {
   "cell_type": "code",
   "execution_count": 18,
   "id": "1dcf989b",
   "metadata": {},
   "outputs": [],
   "source": [
    "#Reset\n",
    "x = cleaned_data[pi+ocontrol+control]\n",
    "y = cleaned_data[\"DUR\"]\n",
    "model_data = pd.concat([x,y],axis=1)"
   ]
  },
  {
   "cell_type": "code",
   "execution_count": 19,
   "id": "428d40b1",
   "metadata": {},
   "outputs": [
    {
     "name": "stdout",
     "output_type": "stream",
     "text": [
      "Optimization terminated successfully.\n",
      "         Current function value: 0.646885\n",
      "         Iterations: 98\n",
      "         Function evaluations: 106\n",
      "         Gradient evaluations: 106\n"
     ]
    }
   ],
   "source": [
    "#5 year inflation expectations instead of one year\n",
    "model_data = model_data[cleaned_data[\"yyyymm\"] >= 199004]\n",
    "\n",
    "\n",
    "y = model_data[\"DUR\"]\n",
    "x = model_data.drop([\"DUR\"],axis=1)\n",
    "\n",
    "\n",
    "x = x.drop([\"PX1\",\"PX1_ZLB\"],axis = 1)\n",
    "x[\"PX5\"] = cleaned_data[\"PX5\"]\n",
    "x[\"PX5_ZLB\"] = x[\"PX5\"] * x[\"ZLB\"]\n",
    "\n",
    "model = OrderedModel(y,x,distr='probit',missing=\"drop\")\n",
    "res = model.fit(method='bfgs')\n",
    "#print(res.summary())"
   ]
  },
  {
   "cell_type": "markdown",
   "id": "899b9652",
   "metadata": {},
   "source": [
    "## Cross Sectional Heterogenity"
   ]
  },
  {
   "cell_type": "code",
   "execution_count": 20,
   "id": "21aa235a",
   "metadata": {},
   "outputs": [],
   "source": [
    "#Reset\n",
    "x = cleaned_data[pi+ocontrol+control]\n",
    "y = cleaned_data[\"DUR\"]\n",
    "model_data = pd.concat([x,y],axis=1)"
   ]
  },
  {
   "cell_type": "code",
   "execution_count": 21,
   "id": "6efbcafc",
   "metadata": {},
   "outputs": [
    {
     "name": "stdout",
     "output_type": "stream",
     "text": [
      "Optimization terminated successfully.\n",
      "         Current function value: 0.656675\n",
      "         Iterations: 112\n",
      "         Function evaluations: 122\n",
      "         Gradient evaluations: 122\n"
     ]
    }
   ],
   "source": [
    "#Old\n",
    "model_old = model_data[model_data[\"AGE\"] > 48]\n",
    "\n",
    "y = model_old[\"DUR\"]\n",
    "x = model_old.drop([\"DUR\"],axis=1)\n",
    "\n",
    "model = OrderedModel(y,x,distr='probit',missing=\"drop\")\n",
    "res = model.fit(method='bfgs')\n",
    "#print(res.summary())"
   ]
  },
  {
   "cell_type": "code",
   "execution_count": 22,
   "id": "c74e26a4",
   "metadata": {},
   "outputs": [
    {
     "name": "stdout",
     "output_type": "stream",
     "text": [
      "Optimization terminated successfully.\n",
      "         Current function value: 0.599970\n",
      "         Iterations: 91\n",
      "         Function evaluations: 98\n",
      "         Gradient evaluations: 98\n"
     ]
    }
   ],
   "source": [
    "#Young\n",
    "model_young = model_data[model_data[\"AGE\"] < 48]\n",
    "\n",
    "y = model_young[\"DUR\"]\n",
    "x = model_young.drop([\"DUR\"],axis=1)\n",
    "\n",
    "model = OrderedModel(y,x,distr='probit',missing=\"drop\")\n",
    "res = model.fit(method='bfgs')\n",
    "#print(res.summary())"
   ]
  },
  {
   "cell_type": "code",
   "execution_count": 23,
   "id": "6c8265d6",
   "metadata": {},
   "outputs": [
    {
     "name": "stdout",
     "output_type": "stream",
     "text": [
      "Optimization terminated successfully.\n",
      "         Current function value: 0.627368\n",
      "         Iterations: 94\n",
      "         Function evaluations: 104\n",
      "         Gradient evaluations: 104\n"
     ]
    }
   ],
   "source": [
    "#College\n",
    "model_college = model_data[model_data[\"ECLGRD\"] == 1]\n",
    "model_college = model_college.drop([\"ECLGRD\"],axis = 1)\n",
    "\n",
    "y = model_college[\"DUR\"]\n",
    "x = model_college.drop([\"DUR\"],axis=1)\n",
    "\n",
    "model = OrderedModel(y,x,distr='probit',missing=\"drop\")\n",
    "res = model.fit(method='bfgs')\n",
    "#print(res.summary())"
   ]
  },
  {
   "cell_type": "code",
   "execution_count": 24,
   "id": "22e3e9db",
   "metadata": {},
   "outputs": [
    {
     "name": "stdout",
     "output_type": "stream",
     "text": [
      "Optimization terminated successfully.\n",
      "         Current function value: 0.621165\n",
      "         Iterations: 98\n",
      "         Function evaluations: 107\n",
      "         Gradient evaluations: 107\n"
     ]
    }
   ],
   "source": [
    "#No College\n",
    "model_nocollege = model_data[model_data[\"ECLGRD\"] == 0]\n",
    "model_nocollege = model_nocollege.drop([\"ECLGRD\"],axis = 1)\n",
    "\n",
    "y = model_nocollege[\"DUR\"]\n",
    "x = model_nocollege.drop([\"DUR\"],axis=1)\n",
    "\n",
    "model = OrderedModel(y,x,distr='probit',missing=\"drop\")\n",
    "res = model.fit(method='bfgs')\n",
    "#print(res.summary())"
   ]
  },
  {
   "cell_type": "code",
   "execution_count": 25,
   "id": "9e4aa5b0",
   "metadata": {},
   "outputs": [
    {
     "name": "stdout",
     "output_type": "stream",
     "text": [
      "Optimization terminated successfully.\n",
      "         Current function value: 0.636086\n",
      "         Iterations: 96\n",
      "         Function evaluations: 105\n",
      "         Gradient evaluations: 105\n"
     ]
    }
   ],
   "source": [
    "#Top 20% income\n",
    "model_top = model_data[cleaned_data[\"income\"] >= cleaned_data[\"income\"].quantile(q=0.8)]\n",
    "\n",
    "y = model_top[\"DUR\"]\n",
    "x = model_top.drop([\"DUR\"],axis=1)\n",
    "\n",
    "model = OrderedModel(y,x,distr='probit',missing=\"drop\")\n",
    "res = model.fit(method='bfgs')\n",
    "#print(res.summary())"
   ]
  },
  {
   "cell_type": "code",
   "execution_count": 26,
   "id": "89bcd9e6",
   "metadata": {},
   "outputs": [
    {
     "name": "stdout",
     "output_type": "stream",
     "text": [
      "Optimization terminated successfully.\n",
      "         Current function value: 0.640264\n",
      "         Iterations: 108\n",
      "         Function evaluations: 113\n",
      "         Gradient evaluations: 113\n"
     ]
    }
   ],
   "source": [
    "#Bottom 20% income\n",
    "model_bottom = model_data[cleaned_data[\"income\"] <= cleaned_data[\"income\"].quantile(q=0.2)]\n",
    "\n",
    "y = model_bottom[\"DUR\"]\n",
    "x = model_bottom.drop([\"DUR\"],axis=1)\n",
    "\n",
    "model = OrderedModel(y,x,distr='probit',missing=\"drop\")\n",
    "res = model.fit(method='bfgs')\n",
    "#print(res.summary())"
   ]
  },
  {
   "cell_type": "markdown",
   "id": "51241aac",
   "metadata": {},
   "source": [
    "# Further Robustness Tests"
   ]
  },
  {
   "cell_type": "markdown",
   "id": "4bdd5c19",
   "metadata": {},
   "source": [
    "## Residuals"
   ]
  },
  {
   "cell_type": "code",
   "execution_count": 27,
   "id": "d13e4b13",
   "metadata": {},
   "outputs": [],
   "source": [
    "#Reset\n",
    "x = cleaned_data[pi+ocontrol+control]\n",
    "y = cleaned_data[\"DUR\"]\n",
    "model_data = pd.concat([x,y],axis=1)"
   ]
  },
  {
   "cell_type": "code",
   "execution_count": 28,
   "id": "534ace96",
   "metadata": {},
   "outputs": [
    {
     "name": "stdout",
     "output_type": "stream",
     "text": [
      "Optimization terminated successfully.\n",
      "         Current function value: 0.624525\n",
      "         Iterations: 108\n",
      "         Function evaluations: 118\n",
      "         Gradient evaluations: 118\n"
     ]
    }
   ],
   "source": [
    "#Model\n",
    "model = OrderedModel(y,x,distr='probit',missing=\"drop\")\n",
    "res = model.fit(method='bfgs')"
   ]
  },
  {
   "cell_type": "code",
   "execution_count": 29,
   "id": "b9f736b5",
   "metadata": {},
   "outputs": [],
   "source": [
    "#Predict\n",
    "y_hat = res.predict(x)"
   ]
  },
  {
   "cell_type": "code",
   "execution_count": 30,
   "id": "a6d56a53",
   "metadata": {},
   "outputs": [],
   "source": [
    "#Get avalible residuals\n",
    "y_hat = y_hat.dropna()\n",
    "y_real = y[y_hat.index]\n",
    "y_res = np.array((y_real+1))-np.array(y_hat).argmax(1)\n",
    "y_res = y_res[~np.isnan(y_res)]\n",
    "y_res = pd.DataFrame(y_res)"
   ]
  },
  {
   "cell_type": "code",
   "execution_count": 69,
   "id": "e7de21cf",
   "metadata": {},
   "outputs": [
    {
     "data": {
      "text/plain": [
       "array([[<AxesSubplot:title={'center':'0'}>]], dtype=object)"
      ]
     },
     "execution_count": 69,
     "metadata": {},
     "output_type": "execute_result"
    },
    {
     "data": {
      "image/png": "[encoded data removed]",
      "text/plain": [
       "<Figure size 432x288 with 1 Axes>"
      ]
     },
     "metadata": {
      "needs_background": "light"
     },
     "output_type": "display_data"
    }
   ],
   "source": [
    "#Note negative bias\n",
    "y_res.hist()"
   ]
  },
  {
   "cell_type": "code",
   "execution_count": 71,
   "id": "bf5ab898",
   "metadata": {},
   "outputs": [
    {
     "data": {
      "text/plain": [
       " 0.0    50785\n",
       "-2.0    13369\n",
       "-1.0     2393\n",
       " 2.0     1081\n",
       " 1.0       47\n",
       "dtype: int64"
      ]
     },
     "execution_count": 71,
     "metadata": {},
     "output_type": "execute_result"
    }
   ],
   "source": [
    "y_res.value_counts()"
   ]
  },
  {
   "cell_type": "markdown",
   "id": "4dcb9cc4",
   "metadata": {},
   "source": [
    "## Check OLS Fitting"
   ]
  },
  {
   "cell_type": "code",
   "execution_count": 32,
   "id": "94f71532",
   "metadata": {},
   "outputs": [],
   "source": [
    "#Reset\n",
    "x = cleaned_data[pi+ocontrol+control]\n",
    "y = cleaned_data[\"DUR\"]\n",
    "model_data = pd.concat([x,y],axis=1)"
   ]
  },
  {
   "cell_type": "code",
   "execution_count": 33,
   "id": "840a1ede",
   "metadata": {},
   "outputs": [],
   "source": [
    "mod = sm.OLS(y, x, missing=\"drop\")\n",
    "test=mod.fit()"
   ]
  },
  {
   "cell_type": "code",
   "execution_count": 34,
   "id": "1316231d",
   "metadata": {},
   "outputs": [
    {
     "data": {
      "text/html": [
       "<table class=\"simpletable\">\n",
       "<caption>OLS Regression Results</caption>\n",
       "<tr>\n",
       "  <th>Dep. Variable:</th>           <td>DUR</td>       <th>  R-squared (uncentered):</th>      <td>   0.352</td> \n",
       "</tr>\n",
       "<tr>\n",
       "  <th>Model:</th>                   <td>OLS</td>       <th>  Adj. R-squared (uncentered):</th> <td>   0.351</td> \n",
       "</tr>\n",
       "<tr>\n",
       "  <th>Method:</th>             <td>Least Squares</td>  <th>  F-statistic:       </th>          <td>   1112.</td> \n",
       "</tr>\n",
       "<tr>\n",
       "  <th>Date:</th>             <td>Fri, 06 May 2022</td> <th>  Prob (F-statistic):</th>           <td>  0.00</td>  \n",
       "</tr>\n",
       "<tr>\n",
       "  <th>Time:</th>                 <td>16:39:06</td>     <th>  Log-Likelihood:    </th>          <td> -80116.</td> \n",
       "</tr>\n",
       "<tr>\n",
       "  <th>No. Observations:</th>      <td> 67675</td>      <th>  AIC:               </th>          <td>1.603e+05</td>\n",
       "</tr>\n",
       "<tr>\n",
       "  <th>Df Residuals:</th>          <td> 67642</td>      <th>  BIC:               </th>          <td>1.606e+05</td>\n",
       "</tr>\n",
       "<tr>\n",
       "  <th>Df Model:</th>              <td>    33</td>      <th>                     </th>              <td> </td>    \n",
       "</tr>\n",
       "<tr>\n",
       "  <th>Covariance Type:</th>      <td>nonrobust</td>    <th>                     </th>              <td> </td>    \n",
       "</tr>\n",
       "</table>\n",
       "<table class=\"simpletable\">\n",
       "<tr>\n",
       "       <td></td>          <th>coef</th>     <th>std err</th>      <th>t</th>      <th>P>|t|</th>  <th>[0.025</th>    <th>0.975]</th>  \n",
       "</tr>\n",
       "<tr>\n",
       "  <th>PX1</th>         <td>    0.0010</td> <td>    0.001</td> <td>    1.149</td> <td> 0.250</td> <td>   -0.001</td> <td>    0.003</td>\n",
       "</tr>\n",
       "<tr>\n",
       "  <th>PX1_ZLB</th>     <td>   -0.0105</td> <td>    0.002</td> <td>   -5.522</td> <td> 0.000</td> <td>   -0.014</td> <td>   -0.007</td>\n",
       "</tr>\n",
       "<tr>\n",
       "  <th>ZLB</th>         <td>   -0.0011</td> <td>    0.018</td> <td>   -0.059</td> <td> 0.953</td> <td>   -0.037</td> <td>    0.035</td>\n",
       "</tr>\n",
       "<tr>\n",
       "  <th>PEXP</th>        <td>    0.0269</td> <td>    0.005</td> <td>    5.139</td> <td> 0.000</td> <td>    0.017</td> <td>    0.037</td>\n",
       "</tr>\n",
       "<tr>\n",
       "  <th>RINC</th>        <td>    0.0059</td> <td>    0.005</td> <td>    1.259</td> <td> 0.208</td> <td>   -0.003</td> <td>    0.015</td>\n",
       "</tr>\n",
       "<tr>\n",
       "  <th>RATEX</th>       <td>    0.0356</td> <td>    0.004</td> <td>    8.381</td> <td> 0.000</td> <td>    0.027</td> <td>    0.044</td>\n",
       "</tr>\n",
       "<tr>\n",
       "  <th>BUS12</th>       <td>    0.0765</td> <td>    0.004</td> <td>   19.514</td> <td> 0.000</td> <td>    0.069</td> <td>    0.084</td>\n",
       "</tr>\n",
       "<tr>\n",
       "  <th>BUS5</th>        <td>    0.0348</td> <td>    0.004</td> <td>    9.048</td> <td> 0.000</td> <td>    0.027</td> <td>    0.042</td>\n",
       "</tr>\n",
       "<tr>\n",
       "  <th>UNEMP</th>       <td>   -0.0378</td> <td>    0.005</td> <td>   -7.402</td> <td> 0.000</td> <td>   -0.048</td> <td>   -0.028</td>\n",
       "</tr>\n",
       "<tr>\n",
       "  <th>PAGO</th>        <td>    0.0736</td> <td>    0.004</td> <td>   18.794</td> <td> 0.000</td> <td>    0.066</td> <td>    0.081</td>\n",
       "</tr>\n",
       "<tr>\n",
       "  <th>GOVT</th>        <td>    0.0598</td> <td>    0.005</td> <td>   11.985</td> <td> 0.000</td> <td>    0.050</td> <td>    0.070</td>\n",
       "</tr>\n",
       "<tr>\n",
       "  <th>BUS12AG</th>     <td>    0.0023</td> <td>    0.000</td> <td>   12.416</td> <td> 0.000</td> <td>    0.002</td> <td>    0.003</td>\n",
       "</tr>\n",
       "<tr>\n",
       "  <th>PX1DISP</th>     <td>    0.0130</td> <td>    0.008</td> <td>    1.667</td> <td> 0.096</td> <td>   -0.002</td> <td>    0.028</td>\n",
       "</tr>\n",
       "<tr>\n",
       "  <th>VXO</th>         <td>   -0.0022</td> <td>    0.000</td> <td>   -4.908</td> <td> 0.000</td> <td>   -0.003</td> <td>   -0.001</td>\n",
       "</tr>\n",
       "<tr>\n",
       "  <th>FFR</th>         <td>    0.0051</td> <td>    0.002</td> <td>    2.548</td> <td> 0.011</td> <td>    0.001</td> <td>    0.009</td>\n",
       "</tr>\n",
       "<tr>\n",
       "  <th>UNRATE</th>      <td>   -0.0101</td> <td>    0.004</td> <td>   -2.804</td> <td> 0.005</td> <td>   -0.017</td> <td>   -0.003</td>\n",
       "</tr>\n",
       "<tr>\n",
       "  <th>INFLATION</th>   <td>    0.0066</td> <td>    0.003</td> <td>    1.927</td> <td> 0.054</td> <td>   -0.000</td> <td>    0.013</td>\n",
       "</tr>\n",
       "<tr>\n",
       "  <th>INFLVOLA</th>    <td>   -0.0198</td> <td>    0.004</td> <td>   -4.922</td> <td> 0.000</td> <td>   -0.028</td> <td>   -0.012</td>\n",
       "</tr>\n",
       "<tr>\n",
       "  <th>CPIDURABLES</th> <td>    0.0025</td> <td>    0.001</td> <td>    2.790</td> <td> 0.005</td> <td>    0.001</td> <td>    0.004</td>\n",
       "</tr>\n",
       "<tr>\n",
       "  <th>SEX</th>         <td>   -0.0288</td> <td>    0.006</td> <td>   -4.658</td> <td> 0.000</td> <td>   -0.041</td> <td>   -0.017</td>\n",
       "</tr>\n",
       "<tr>\n",
       "  <th>MARRY</th>       <td>   -0.0353</td> <td>    0.007</td> <td>   -4.806</td> <td> 0.000</td> <td>   -0.050</td> <td>   -0.021</td>\n",
       "</tr>\n",
       "<tr>\n",
       "  <th>ECLGRD</th>      <td>   -0.0320</td> <td>    0.007</td> <td>   -4.739</td> <td> 0.000</td> <td>   -0.045</td> <td>   -0.019</td>\n",
       "</tr>\n",
       "<tr>\n",
       "  <th>AFRICAN</th>     <td>    0.0074</td> <td>    0.011</td> <td>    0.653</td> <td> 0.514</td> <td>   -0.015</td> <td>    0.030</td>\n",
       "</tr>\n",
       "<tr>\n",
       "  <th>HISPANIC</th>    <td>   -0.0433</td> <td>    0.014</td> <td>   -2.998</td> <td> 0.003</td> <td>   -0.072</td> <td>   -0.015</td>\n",
       "</tr>\n",
       "<tr>\n",
       "  <th>NATIVE</th>      <td>   -0.0079</td> <td>    0.032</td> <td>   -0.246</td> <td> 0.806</td> <td>   -0.071</td> <td>    0.055</td>\n",
       "</tr>\n",
       "<tr>\n",
       "  <th>ASIAN</th>       <td>   -0.0585</td> <td>    0.023</td> <td>   -2.553</td> <td> 0.011</td> <td>   -0.103</td> <td>   -0.014</td>\n",
       "</tr>\n",
       "<tr>\n",
       "  <th>WEST</th>        <td>   -0.0130</td> <td>    0.009</td> <td>   -1.438</td> <td> 0.150</td> <td>   -0.031</td> <td>    0.005</td>\n",
       "</tr>\n",
       "<tr>\n",
       "  <th>NORTHEAST</th>   <td>    0.0063</td> <td>    0.009</td> <td>    0.690</td> <td> 0.490</td> <td>   -0.012</td> <td>    0.024</td>\n",
       "</tr>\n",
       "<tr>\n",
       "  <th>SOUTH</th>       <td>    0.0037</td> <td>    0.008</td> <td>    0.475</td> <td> 0.634</td> <td>   -0.012</td> <td>    0.019</td>\n",
       "</tr>\n",
       "<tr>\n",
       "  <th>FAMSIZE</th>     <td>   -0.0046</td> <td>    0.003</td> <td>   -1.729</td> <td> 0.084</td> <td>   -0.010</td> <td>    0.001</td>\n",
       "</tr>\n",
       "<tr>\n",
       "  <th>AGE</th>         <td>    0.0062</td> <td>    0.001</td> <td>    6.269</td> <td> 0.000</td> <td>    0.004</td> <td>    0.008</td>\n",
       "</tr>\n",
       "<tr>\n",
       "  <th>AGE2</th>        <td>-4.678e-05</td> <td> 1.02e-05</td> <td>   -4.565</td> <td> 0.000</td> <td>-6.69e-05</td> <td>-2.67e-05</td>\n",
       "</tr>\n",
       "<tr>\n",
       "  <th>INCOME</th>      <td>    0.0727</td> <td>    0.004</td> <td>   17.507</td> <td> 0.000</td> <td>    0.065</td> <td>    0.081</td>\n",
       "</tr>\n",
       "</table>\n",
       "<table class=\"simpletable\">\n",
       "<tr>\n",
       "  <th>Omnibus:</th>       <td>9224.641</td> <th>  Durbin-Watson:     </th> <td>   1.980</td> \n",
       "</tr>\n",
       "<tr>\n",
       "  <th>Prob(Omnibus):</th>  <td> 0.000</td>  <th>  Jarque-Bera (JB):  </th> <td>13256.095</td>\n",
       "</tr>\n",
       "<tr>\n",
       "  <th>Skew:</th>           <td>-1.075</td>  <th>  Prob(JB):          </th> <td>    0.00</td> \n",
       "</tr>\n",
       "<tr>\n",
       "  <th>Kurtosis:</th>       <td> 2.714</td>  <th>  Cond. No.          </th> <td>2.96e+04</td> \n",
       "</tr>\n",
       "</table><br/><br/>Notes:<br/>[1] R² is computed without centering (uncentered) since the model does not contain a constant.<br/>[2] Standard Errors assume that the covariance matrix of the errors is correctly specified.<br/>[3] The condition number is large, 2.96e+04. This might indicate that there are<br/>strong multicollinearity or other numerical problems."
      ],
      "text/plain": [
       "<class 'statsmodels.iolib.summary.Summary'>\n",
       "\"\"\"\n",
       "                                 OLS Regression Results                                \n",
       "=======================================================================================\n",
       "Dep. Variable:                    DUR   R-squared (uncentered):                   0.352\n",
       "Model:                            OLS   Adj. R-squared (uncentered):              0.351\n",
       "Method:                 Least Squares   F-statistic:                              1112.\n",
       "Date:                Fri, 06 May 2022   Prob (F-statistic):                        0.00\n",
       "Time:                        16:39:06   Log-Likelihood:                         -80116.\n",
       "No. Observations:               67675   AIC:                                  1.603e+05\n",
       "Df Residuals:                   67642   BIC:                                  1.606e+05\n",
       "Df Model:                          33                                                  \n",
       "Covariance Type:            nonrobust                                                  \n",
       "===============================================================================\n",
       "                  coef    std err          t      P>|t|      [0.025      0.975]\n",
       "-------------------------------------------------------------------------------\n",
       "PX1             0.0010      0.001      1.149      0.250      -0.001       0.003\n",
       "PX1_ZLB        -0.0105      0.002     -5.522      0.000      -0.014      -0.007\n",
       "ZLB            -0.0011      0.018     -0.059      0.953      -0.037       0.035\n",
       "PEXP            0.0269      0.005      5.139      0.000       0.017       0.037\n",
       "RINC            0.0059      0.005      1.259      0.208      -0.003       0.015\n",
       "RATEX           0.0356      0.004      8.381      0.000       0.027       0.044\n",
       "BUS12           0.0765      0.004     19.514      0.000       0.069       0.084\n",
       "BUS5            0.0348      0.004      9.048      0.000       0.027       0.042\n",
       "UNEMP          -0.0378      0.005     -7.402      0.000      -0.048      -0.028\n",
       "PAGO            0.0736      0.004     18.794      0.000       0.066       0.081\n",
       "GOVT            0.0598      0.005     11.985      0.000       0.050       0.070\n",
       "BUS12AG         0.0023      0.000     12.416      0.000       0.002       0.003\n",
       "PX1DISP         0.0130      0.008      1.667      0.096      -0.002       0.028\n",
       "VXO            -0.0022      0.000     -4.908      0.000      -0.003      -0.001\n",
       "FFR             0.0051      0.002      2.548      0.011       0.001       0.009\n",
       "UNRATE         -0.0101      0.004     -2.804      0.005      -0.017      -0.003\n",
       "INFLATION       0.0066      0.003      1.927      0.054      -0.000       0.013\n",
       "INFLVOLA       -0.0198      0.004     -4.922      0.000      -0.028      -0.012\n",
       "CPIDURABLES     0.0025      0.001      2.790      0.005       0.001       0.004\n",
       "SEX            -0.0288      0.006     -4.658      0.000      -0.041      -0.017\n",
       "MARRY          -0.0353      0.007     -4.806      0.000      -0.050      -0.021\n",
       "ECLGRD         -0.0320      0.007     -4.739      0.000      -0.045      -0.019\n",
       "AFRICAN         0.0074      0.011      0.653      0.514      -0.015       0.030\n",
       "HISPANIC       -0.0433      0.014     -2.998      0.003      -0.072      -0.015\n",
       "NATIVE         -0.0079      0.032     -0.246      0.806      -0.071       0.055\n",
       "ASIAN          -0.0585      0.023     -2.553      0.011      -0.103      -0.014\n",
       "WEST           -0.0130      0.009     -1.438      0.150      -0.031       0.005\n",
       "NORTHEAST       0.0063      0.009      0.690      0.490      -0.012       0.024\n",
       "SOUTH           0.0037      0.008      0.475      0.634      -0.012       0.019\n",
       "FAMSIZE        -0.0046      0.003     -1.729      0.084      -0.010       0.001\n",
       "AGE             0.0062      0.001      6.269      0.000       0.004       0.008\n",
       "AGE2        -4.678e-05   1.02e-05     -4.565      0.000   -6.69e-05   -2.67e-05\n",
       "INCOME          0.0727      0.004     17.507      0.000       0.065       0.081\n",
       "==============================================================================\n",
       "Omnibus:                     9224.641   Durbin-Watson:                   1.980\n",
       "Prob(Omnibus):                  0.000   Jarque-Bera (JB):            13256.095\n",
       "Skew:                          -1.075   Prob(JB):                         0.00\n",
       "Kurtosis:                       2.714   Cond. No.                     2.96e+04\n",
       "==============================================================================\n",
       "\n",
       "Notes:\n",
       "[1] R² is computed without centering (uncentered) since the model does not contain a constant.\n",
       "[2] Standard Errors assume that the covariance matrix of the errors is correctly specified.\n",
       "[3] The condition number is large, 2.96e+04. This might indicate that there are\n",
       "strong multicollinearity or other numerical problems.\n",
       "\"\"\""
      ]
     },
     "execution_count": 34,
     "metadata": {},
     "output_type": "execute_result"
    }
   ],
   "source": [
    "test.summary()"
   ]
  },
  {
   "cell_type": "code",
   "execution_count": null,
   "id": "1c3ab703",
   "metadata": {},
   "outputs": [],
   "source": []
  }
 ],
 "metadata": {
  "kernelspec": {
   "display_name": "Python 3 (ipykernel)",
   "language": "python",
   "name": "python3"
  },
  "language_info": {
   "codemirror_mode": {
    "name": "ipython",
    "version": 3
   },
   "file_extension": ".py",
   "mimetype": "text/x-python",
   "name": "python",
   "nbconvert_exporter": "python",
   "pygments_lexer": "ipython3",
   "version": "3.8.5"
  }
 },
 "nbformat": 4,
 "nbformat_minor": 5
}
