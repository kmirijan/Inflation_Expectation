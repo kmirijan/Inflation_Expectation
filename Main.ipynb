{
 "cells": [
  {
   "cell_type": "markdown",
   "id": "bdb27e70",
   "metadata": {},
   "source": [
    "# Replication of Regression from Inflation Expectation Paper"
   ]
  },
  {
   "cell_type": "markdown",
   "id": "fa898123",
   "metadata": {},
   "source": [
    "## Data"
   ]
  },
  {
   "cell_type": "code",
   "execution_count": 1,
   "id": "37c9113d",
   "metadata": {},
   "outputs": [],
   "source": [
    "import numpy as np\n",
    "import pandas as pd\n",
    "import scipy.stats as stats\n",
    "import statsmodels\n",
    "from statsmodels.miscmodels.ordinal_model import OrderedModel"
   ]
  },
  {
   "cell_type": "code",
   "execution_count": 2,
   "id": "2ee85f43",
   "metadata": {},
   "outputs": [],
   "source": [
    "#Read in data\n",
    "df=pd.read_csv(\"data/data.csv\")"
   ]
  },
  {
   "cell_type": "code",
   "execution_count": 3,
   "id": "af19338e",
   "metadata": {},
   "outputs": [],
   "source": [
    "#Period between 1984:1 to 2012:12\n",
    "cleaned_data=df[(df[\"yyyymm\"] >= 198401)&(df[\"yyyymm\"] <= 201212)]\n",
    "#Only keep first time responces\n",
    "cleaned_data=cleaned_data[cleaned_data[\"datepr\"].isnull()]"
   ]
  },
  {
   "cell_type": "code",
   "execution_count": 4,
   "id": "576753b8",
   "metadata": {},
   "outputs": [],
   "source": [
    "#Extra Transforms\n",
    "\n",
    "#Age\n",
    "cleaned_data[\"AGE2\"] = cleaned_data[\"AGE\"]*cleaned_data[\"AGE\"]\n",
    "cleaned_data[\"AGE3\"] = cleaned_data[\"AGE2\"]*cleaned_data[\"AGE\"]\n",
    "\n",
    "#Inflation DLZ\n",
    "cleaned_data[\"PX1_ZLB\"] = cleaned_data[\"PX1\"]*cleaned_data[\"ZLB\"]\n",
    "\n",
    "trans = [\"AGE2\",\"AGE3\",\"PX1_ZLB\"]"
   ]
  },
  {
   "cell_type": "code",
   "execution_count": 5,
   "id": "a8c627f6",
   "metadata": {},
   "outputs": [],
   "source": [
    "#Inflation Expectation\n",
    "pi=[\"PX1\",\"PX1_ZLB\"]"
   ]
  },
  {
   "cell_type": "code",
   "execution_count": 6,
   "id": "71e39434",
   "metadata": {},
   "outputs": [],
   "source": [
    "#Control for demographics\n",
    "control = [\"SEX\",\"MARRY\",\"ECLGRD\",\"AFRICAN\",\"HISPANIC\",\"NATIVE\",\"ASIAN\",\"WEST\",\n",
    "       \"NORTHEAST\",\"SOUTH\",\"FAMSIZE\",\"AGE\",\"AGE2\",\"AGE3\",\"INCOME\"]"
   ]
  },
  {
   "cell_type": "code",
   "execution_count": 7,
   "id": "202fc7cf",
   "metadata": {},
   "outputs": [],
   "source": [
    "#other controls\n",
    "ocontrol = [\"ZLB\",\"PEXP\",\"RINC\",\"RATEX\",\"BUS12\",\"BUS5\",\"UNEMP\",\"PAGO\",\"GOVT\",\n",
    "            \"BUS12AG\",\"PX1DISP\",\"VXO\",\"FFR\",\"UNRATE\",\"INFLATION\",\"INFLVOLA\",\"CPIDURABLES\"]"
   ]
  },
  {
   "cell_type": "code",
   "execution_count": 8,
   "id": "5ed37f3b",
   "metadata": {},
   "outputs": [],
   "source": [
    "#Indep Variables\n",
    "x = cleaned_data[pi+ocontrol+control]"
   ]
  },
  {
   "cell_type": "code",
   "execution_count": 9,
   "id": "1a1e7126",
   "metadata": {},
   "outputs": [],
   "source": [
    "#Dependent Variable\n",
    "y = cleaned_data[\"DUR\"]"
   ]
  },
  {
   "cell_type": "markdown",
   "id": "89c8f628",
   "metadata": {},
   "source": [
    "## Probit Model"
   ]
  },
  {
   "cell_type": "code",
   "execution_count": 10,
   "id": "d17441fe",
   "metadata": {},
   "outputs": [
    {
     "name": "stdout",
     "output_type": "stream",
     "text": [
      "Warning: Desired error not necessarily achieved due to precision loss.\n",
      "         Current function value: 0.624541\n",
      "         Iterations: 59\n",
      "         Function evaluations: 115\n",
      "         Gradient evaluations: 103\n",
      "                             OrderedModel Results                             \n",
      "==============================================================================\n",
      "Dep. Variable:                    DUR   Log-Likelihood:                -42266.\n",
      "Model:                   OrderedModel   AIC:                         8.460e+04\n",
      "Method:            Maximum Likelihood   BIC:                         8.493e+04\n",
      "Date:                Thu, 05 May 2022                                         \n",
      "Time:                        16:59:25                                         \n",
      "No. Observations:               67675                                         \n",
      "Df Residuals:                   67639                                         \n",
      "Df Model:                          36                                         \n",
      "===============================================================================\n",
      "                  coef    std err          z      P>|z|      [0.025      0.975]\n",
      "-------------------------------------------------------------------------------\n",
      "PX1            -0.0010        nan        nan        nan         nan         nan\n",
      "PX1_ZLB        -0.0103        nan        nan        nan         nan         nan\n",
      "ZLB             0.0840        nan        nan        nan         nan         nan\n",
      "PEXP            0.0259        nan        nan        nan         nan         nan\n",
      "RINC            0.0197        nan        nan        nan         nan         nan\n",
      "RATEX           0.0446        nan        nan        nan         nan         nan\n",
      "BUS12           0.1292        nan        nan        nan         nan         nan\n",
      "BUS5            0.0628        nan        nan        nan         nan         nan\n",
      "UNEMP          -0.0641        nan        nan        nan         nan         nan\n",
      "PAGO            0.1202        nan        nan        nan         nan         nan\n",
      "GOVT            0.1119        nan        nan        nan         nan         nan\n",
      "BUS12AG         0.0019        nan        nan        nan         nan         nan\n",
      "PX1DISP        -0.0801        nan        nan        nan         nan         nan\n",
      "VXO            -0.0050        nan        nan        nan         nan         nan\n",
      "FFR             0.0212        nan        nan        nan         nan         nan\n",
      "UNRATE         -0.0465        nan        nan        nan         nan         nan\n",
      "INFLATION      -0.0221        nan        nan        nan         nan         nan\n",
      "INFLVOLA       -0.0178        nan        nan        nan         nan         nan\n",
      "CPIDURABLES     0.0013        nan        nan        nan         nan         nan\n",
      "SEX            -0.0700        nan        nan        nan         nan         nan\n",
      "MARRY          -0.0069        nan        nan        nan         nan         nan\n",
      "ECLGRD         -0.0343        nan        nan        nan         nan         nan\n",
      "AFRICAN        -0.0157        nan        nan        nan         nan         nan\n",
      "HISPANIC       -0.1269        nan        nan        nan         nan         nan\n",
      "NATIVE         -0.0693        nan        nan        nan         nan         nan\n",
      "ASIAN          -0.1663        nan        nan        nan         nan         nan\n",
      "WEST           -0.0392        nan        nan        nan         nan         nan\n",
      "NORTHEAST      -0.0123        nan        nan        nan         nan         nan\n",
      "SOUTH          -0.0115        nan        nan        nan         nan         nan\n",
      "FAMSIZE        -0.0213        nan        nan        nan         nan         nan\n",
      "AGE            -0.0048        nan        nan        nan         nan         nan\n",
      "AGE2         4.301e-05        nan        nan        nan         nan         nan\n",
      "AGE3          6.58e-08        nan        nan        nan         nan         nan\n",
      "INCOME          0.0556        nan        nan        nan         nan         nan\n",
      "-1.0/0.0       -1.4260        nan        nan        nan         nan         nan\n",
      "0.0/1.0        -2.0600        nan        nan        nan         nan         nan\n",
      "===============================================================================\n"
     ]
    },
    {
     "name": "stderr",
     "output_type": "stream",
     "text": [
      "/Users/duncanblack/opt/anaconda3/lib/python3.9/site-packages/statsmodels/base/model.py:592: HessianInversionWarning: Inverting hessian failed, no bse or cov_params available\n",
      "  warnings.warn('Inverting hessian failed, no bse or cov_params '\n",
      "/Users/duncanblack/opt/anaconda3/lib/python3.9/site-packages/statsmodels/base/model.py:604: ConvergenceWarning: Maximum Likelihood optimization failed to converge. Check mle_retvals\n",
      "  warnings.warn(\"Maximum Likelihood optimization failed to \"\n"
     ]
    }
   ],
   "source": [
    "model = OrderedModel(y,x,distr='probit',missing=\"drop\")\n",
    "res = model.fit(method='bfgs')\n",
    "print(res.summary())"
   ]
  },
  {
   "cell_type": "code",
   "execution_count": 11,
   "id": "e93b914e",
   "metadata": {},
   "outputs": [
    {
     "data": {
      "text/plain": [
       "array([       -inf, -1.42597861, -1.29852566,         inf])"
      ]
     },
     "execution_count": 11,
     "metadata": {},
     "output_type": "execute_result"
    }
   ],
   "source": [
    "num_of_thresholds = 2\n",
    "model.transform_threshold_params(res.params[-num_of_thresholds:])"
   ]
  },
  {
   "cell_type": "markdown",
   "id": "fdc9870a",
   "metadata": {},
   "source": [
    "# Robustness Checks"
   ]
  },
  {
   "cell_type": "markdown",
   "id": "1c52d21f",
   "metadata": {},
   "source": [
    "## Excluding Idiosyncratic Expecttions Controls"
   ]
  },
  {
   "cell_type": "code",
   "execution_count": 12,
   "id": "8be72ed1",
   "metadata": {},
   "outputs": [],
   "source": [
    "model_data = pd.concat([x,y],axis=1)"
   ]
  },
  {
   "cell_type": "code",
   "execution_count": 13,
   "id": "b3e56286",
   "metadata": {},
   "outputs": [
    {
     "name": "stdout",
     "output_type": "stream",
     "text": [
      "Warning: Desired error not necessarily achieved due to precision loss.\n",
      "         Current function value: 0.626462\n",
      "         Iterations: 59\n",
      "         Function evaluations: 133\n",
      "         Gradient evaluations: 121\n",
      "                             OrderedModel Results                             \n",
      "==============================================================================\n",
      "Dep. Variable:                    DUR   Log-Likelihood:                -42821.\n",
      "Model:                   OrderedModel   AIC:                         8.571e+04\n",
      "Method:            Maximum Likelihood   BIC:                         8.603e+04\n",
      "Date:                Thu, 05 May 2022                                         \n",
      "Time:                        17:00:23                                         \n",
      "No. Observations:               68354                                         \n",
      "Df Residuals:                   68319                                         \n",
      "Df Model:                          35                                         \n",
      "===============================================================================\n",
      "                  coef    std err          z      P>|z|      [0.025      0.975]\n",
      "-------------------------------------------------------------------------------\n",
      "PX1            -0.0018        nan        nan        nan         nan         nan\n",
      "PX1_ZLB        -0.0103        nan        nan        nan         nan         nan\n",
      "ZLB             0.0999        nan        nan        nan         nan         nan\n",
      "PEXP            0.0302        nan        nan        nan         nan         nan\n",
      "RINC            0.0259        nan        nan        nan         nan         nan\n",
      "RATEX           0.0432        nan        nan        nan         nan         nan\n",
      "BUS12           0.1424        nan        nan        nan         nan         nan\n",
      "BUS5            0.0748        nan        nan        nan         nan         nan\n",
      "UNEMP          -0.0811        nan        nan        nan         nan         nan\n",
      "PAGO            0.1276        nan        nan        nan         nan         nan\n",
      "BUS12AG         0.0021        nan        nan        nan         nan         nan\n",
      "PX1DISP        -0.0755        nan        nan        nan         nan         nan\n",
      "VXO            -0.0044        nan        nan        nan         nan         nan\n",
      "FFR             0.0239        nan        nan        nan         nan         nan\n",
      "UNRATE         -0.0515        nan        nan        nan         nan         nan\n",
      "INFLATION      -0.0258        nan        nan        nan         nan         nan\n",
      "INFLVOLA       -0.0144        nan        nan        nan         nan         nan\n",
      "CPIDURABLES     0.0020        nan        nan        nan         nan         nan\n",
      "SEX            -0.0661        nan        nan        nan         nan         nan\n",
      "MARRY          -0.0084        nan        nan        nan         nan         nan\n",
      "ECLGRD         -0.0302        nan        nan        nan         nan         nan\n",
      "AFRICAN        -0.0220        nan        nan        nan         nan         nan\n",
      "HISPANIC       -0.1202        nan        nan        nan         nan         nan\n",
      "NATIVE         -0.0743        nan        nan        nan         nan         nan\n",
      "ASIAN          -0.1612        nan        nan        nan         nan         nan\n",
      "WEST           -0.0387        nan        nan        nan         nan         nan\n",
      "NORTHEAST      -0.0090        nan        nan        nan         nan         nan\n",
      "SOUTH          -0.0067        nan        nan        nan         nan         nan\n",
      "FAMSIZE        -0.0194        nan        nan        nan         nan         nan\n",
      "AGE            -0.0046        nan        nan        nan         nan         nan\n",
      "AGE2         4.704e-05        nan        nan        nan         nan         nan\n",
      "AGE3         3.478e-08        nan        nan        nan         nan         nan\n",
      "INCOME          0.0562        nan        nan        nan         nan         nan\n",
      "-1.0/0.0       -1.3913        nan        nan        nan         nan         nan\n",
      "0.0/1.0        -2.0552        nan        nan        nan         nan         nan\n",
      "===============================================================================\n"
     ]
    },
    {
     "name": "stderr",
     "output_type": "stream",
     "text": [
      "/Users/duncanblack/opt/anaconda3/lib/python3.9/site-packages/statsmodels/base/model.py:592: HessianInversionWarning: Inverting hessian failed, no bse or cov_params available\n",
      "  warnings.warn('Inverting hessian failed, no bse or cov_params '\n",
      "/Users/duncanblack/opt/anaconda3/lib/python3.9/site-packages/statsmodels/base/model.py:604: ConvergenceWarning: Maximum Likelihood optimization failed to converge. Check mle_retvals\n",
      "  warnings.warn(\"Maximum Likelihood optimization failed to \"\n"
     ]
    }
   ],
   "source": [
    "#Excluding Policy Trust\n",
    "model_data = model_data.drop([\"GOVT\"],axis=1)\n",
    "y = model_data[\"DUR\"]\n",
    "x = model_data.drop([\"DUR\"],axis=1)\n",
    "\n",
    "model = OrderedModel(y,x,distr='probit',missing=\"drop\")\n",
    "res = model.fit(method='bfgs')\n",
    "print(res.summary())"
   ]
  },
  {
   "cell_type": "code",
   "execution_count": 14,
   "id": "9401a7d5",
   "metadata": {},
   "outputs": [
    {
     "name": "stdout",
     "output_type": "stream",
     "text": [
      "Warning: Desired error not necessarily achieved due to precision loss.\n",
      "         Current function value: 0.651308\n",
      "         Iterations: 85\n",
      "         Function evaluations: 153\n",
      "         Gradient evaluations: 141\n",
      "                             OrderedModel Results                             \n",
      "==============================================================================\n",
      "Dep. Variable:                    DUR   Log-Likelihood:                -52783.\n",
      "Model:                   OrderedModel   AIC:                         1.056e+05\n",
      "Method:            Maximum Likelihood   BIC:                         1.059e+05\n",
      "Date:                Thu, 05 May 2022                                         \n",
      "Time:                        17:01:21                                         \n",
      "No. Observations:               81041                                         \n",
      "Df Residuals:                   81012                                         \n",
      "Df Model:                          29                                         \n",
      "===============================================================================\n",
      "                  coef    std err          z      P>|z|      [0.025      0.975]\n",
      "-------------------------------------------------------------------------------\n",
      "PX1            -0.0070        nan        nan        nan         nan         nan\n",
      "PX1_ZLB        -0.0104        nan        nan        nan         nan         nan\n",
      "ZLB             0.1478        nan        nan        nan         nan         nan\n",
      "PAGO            0.1755        nan        nan        nan         nan         nan\n",
      "BUS12AG         0.0040        nan        nan        nan         nan         nan\n",
      "PX1DISP        -0.0797        nan        nan        nan         nan         nan\n",
      "VXO            -0.0042        nan        nan        nan         nan         nan\n",
      "FFR             0.0177        nan        nan        nan         nan         nan\n",
      "UNRATE         -0.0573        nan        nan        nan         nan         nan\n",
      "INFLATION      -0.0165        nan        nan        nan         nan         nan\n",
      "INFLVOLA       -0.0123        nan        nan        nan         nan         nan\n",
      "CPIDURABLES     0.0018        nan        nan        nan         nan         nan\n",
      "SEX            -0.0893        nan        nan        nan         nan         nan\n",
      "MARRY          -0.0131        nan        nan        nan         nan         nan\n",
      "ECLGRD         -0.0322        nan        nan        nan         nan         nan\n",
      "AFRICAN        -0.0381        nan        nan        nan         nan         nan\n",
      "HISPANIC       -0.1090        nan        nan        nan         nan         nan\n",
      "NATIVE         -0.0721        nan        nan        nan         nan         nan\n",
      "ASIAN          -0.1162        nan        nan        nan         nan         nan\n",
      "WEST           -0.0392        nan        nan        nan         nan         nan\n",
      "NORTHEAST      -0.0171        nan        nan        nan         nan         nan\n",
      "SOUTH           0.0030        nan        nan        nan         nan         nan\n",
      "FAMSIZE        -0.0215        nan        nan        nan         nan         nan\n",
      "AGE            -0.0164        nan        nan        nan         nan         nan\n",
      "AGE2            0.0003        nan        nan        nan         nan         nan\n",
      "AGE3        -1.196e-06        nan        nan        nan         nan         nan\n",
      "INCOME          0.0741        nan        nan        nan         nan         nan\n",
      "-1.0/0.0       -1.5607        nan        nan        nan         nan         nan\n",
      "0.0/1.0        -1.9808        nan        nan        nan         nan         nan\n",
      "===============================================================================\n"
     ]
    },
    {
     "name": "stderr",
     "output_type": "stream",
     "text": [
      "/Users/duncanblack/opt/anaconda3/lib/python3.9/site-packages/statsmodels/base/model.py:592: HessianInversionWarning: Inverting hessian failed, no bse or cov_params available\n",
      "  warnings.warn('Inverting hessian failed, no bse or cov_params '\n",
      "/Users/duncanblack/opt/anaconda3/lib/python3.9/site-packages/statsmodels/base/model.py:604: ConvergenceWarning: Maximum Likelihood optimization failed to converge. Check mle_retvals\n",
      "  warnings.warn(\"Maximum Likelihood optimization failed to \"\n"
     ]
    }
   ],
   "source": [
    "#Excluding All idiosyncratic variables\n",
    "model_data = model_data.drop([\"PEXP\",\"RINC\",\"RATEX\",\"BUS12\",\"BUS5\",\"UNEMP\"],axis=1)\n",
    "y = model_data[\"DUR\"]\n",
    "x = model_data.drop([\"DUR\"],axis=1)\n",
    "\n",
    "model = OrderedModel(y,x,distr='probit',missing=\"drop\")\n",
    "res = model.fit(method='bfgs')\n",
    "print(res.summary())"
   ]
  },
  {
   "cell_type": "code",
   "execution_count": 15,
   "id": "8806e26b",
   "metadata": {},
   "outputs": [],
   "source": [
    "#Reset\n",
    "x = cleaned_data[pi+ocontrol+control]\n",
    "y = cleaned_data[\"DUR\"]\n",
    "model_data = pd.concat([x,y],axis=1)"
   ]
  },
  {
   "cell_type": "code",
   "execution_count": 16,
   "id": "81874621",
   "metadata": {},
   "outputs": [
    {
     "name": "stdout",
     "output_type": "stream",
     "text": [
      "Warning: Desired error not necessarily achieved due to precision loss.\n",
      "         Current function value: 0.677278\n",
      "         Iterations: 44\n",
      "         Function evaluations: 121\n",
      "         Gradient evaluations: 109\n",
      "                             OrderedModel Results                             \n",
      "==============================================================================\n",
      "Dep. Variable:                    DUR   Log-Likelihood:                -11460.\n",
      "Model:                   OrderedModel   AIC:                         2.300e+04\n",
      "Method:            Maximum Likelihood   BIC:                         2.331e+04\n",
      "Date:                Thu, 05 May 2022                                         \n",
      "Time:                        17:01:39                                         \n",
      "No. Observations:               16921                                         \n",
      "Df Residuals:                   16881                                         \n",
      "Df Model:                          40                                         \n",
      "===============================================================================\n",
      "                  coef    std err          z      P>|z|      [0.025      0.975]\n",
      "-------------------------------------------------------------------------------\n",
      "GAS1           -0.0006        nan        nan        nan         nan         nan\n",
      "HOMEOWN        -0.0262        nan        nan        nan         nan         nan\n",
      "PINC2        3.951e-05        nan        nan        nan         nan         nan\n",
      "PJOB           -0.0016        nan        nan        nan         nan         nan\n",
      "PX1             0.0051        nan        nan        nan         nan         nan\n",
      "PX1_ZLB        -0.0126        nan        nan        nan         nan         nan\n",
      "ZLB             0.4786        nan        nan        nan         nan         nan\n",
      "PEXP            0.0478        nan        nan        nan         nan         nan\n",
      "RINC            0.0285        nan        nan        nan         nan         nan\n",
      "RATEX           0.0085        nan        nan        nan         nan         nan\n",
      "BUS12           0.0998        nan        nan        nan         nan         nan\n",
      "BUS5            0.0828        nan        nan        nan         nan         nan\n",
      "UNEMP          -0.0788        nan        nan        nan         nan         nan\n",
      "PAGO            0.1276        nan        nan        nan         nan         nan\n",
      "GOVT            0.1107        nan        nan        nan         nan         nan\n",
      "BUS12AG         0.0029        nan        nan        nan         nan         nan\n",
      "PX1DISP         0.0611        nan        nan        nan         nan         nan\n",
      "VXO            -0.0019        nan        nan        nan         nan         nan\n",
      "FFR             0.1312        nan        nan        nan         nan         nan\n",
      "UNRATE         -0.0245        nan        nan        nan         nan         nan\n",
      "INFLATION       0.0345        nan        nan        nan         nan         nan\n",
      "INFLVOLA        0.0023        nan        nan        nan         nan         nan\n",
      "CPIDURABLES     0.0305        nan        nan        nan         nan         nan\n",
      "SEX            -0.1243        nan        nan        nan         nan         nan\n",
      "MARRY          -0.0198        nan        nan        nan         nan         nan\n",
      "ECLGRD         -0.0303        nan        nan        nan         nan         nan\n",
      "AFRICAN        -0.0934        nan        nan        nan         nan         nan\n",
      "HISPANIC       -0.1797        nan        nan        nan         nan         nan\n",
      "NATIVE         -0.1201        nan        nan        nan         nan         nan\n",
      "ASIAN          -0.1790        nan        nan        nan         nan         nan\n",
      "WEST           -0.0416        nan        nan        nan         nan         nan\n",
      "NORTHEAST      -0.0167        nan        nan        nan         nan         nan\n",
      "SOUTH           0.0237        nan        nan        nan         nan         nan\n",
      "FAMSIZE        -0.0358        nan        nan        nan         nan         nan\n",
      "AGE            -0.0206        nan        nan        nan         nan         nan\n",
      "AGE2            0.0004        nan        nan        nan         nan         nan\n",
      "AGE3        -2.032e-06        nan        nan        nan         nan         nan\n",
      "INCOME          0.0731        nan        nan        nan         nan         nan\n",
      "-1.0/0.0       -0.4458        nan        nan        nan         nan         nan\n",
      "0.0/1.0        -2.6738        nan        nan        nan         nan         nan\n",
      "===============================================================================\n"
     ]
    },
    {
     "name": "stderr",
     "output_type": "stream",
     "text": [
      "/Users/duncanblack/opt/anaconda3/lib/python3.9/site-packages/statsmodels/base/model.py:592: HessianInversionWarning: Inverting hessian failed, no bse or cov_params available\n",
      "  warnings.warn('Inverting hessian failed, no bse or cov_params '\n",
      "/Users/duncanblack/opt/anaconda3/lib/python3.9/site-packages/statsmodels/base/model.py:604: ConvergenceWarning: Maximum Likelihood optimization failed to converge. Check mle_retvals\n",
      "  warnings.warn(\"Maximum Likelihood optimization failed to \"\n"
     ]
    }
   ],
   "source": [
    "# With Gas Price Expectations, Home Ownership and sub prob\n",
    "model_data = pd.concat([cleaned_data[[\"GAS1\",\"HOMEOWN\",\"PINC2\",\"PJOB\"]],model_data], axis=1)\n",
    "model_data = model_data[cleaned_data[\"yyyymm\"] >= 199801]\n",
    "\n",
    "y = model_data[\"DUR\"]\n",
    "x = model_data.drop([\"DUR\"],axis=1)\n",
    "\n",
    "model = OrderedModel(y,x,distr='probit',missing=\"drop\")\n",
    "res = model.fit(method='bfgs')\n",
    "print(res.summary())"
   ]
  },
  {
   "cell_type": "code",
   "execution_count": 26,
   "id": "6e7ad320",
   "metadata": {},
   "outputs": [],
   "source": [
    "#Reset\n",
    "x = cleaned_data[pi+ocontrol+control]\n",
    "y = cleaned_data[\"DUR\"]\n",
    "model_data = pd.concat([x,y],axis=1)"
   ]
  },
  {
   "cell_type": "code",
   "execution_count": 27,
   "id": "58eacc37",
   "metadata": {},
   "outputs": [
    {
     "name": "stdout",
     "output_type": "stream",
     "text": [
      "Warning: Desired error not necessarily achieved due to precision loss.\n",
      "         Current function value: 0.646858\n",
      "         Iterations: 76\n",
      "         Function evaluations: 161\n",
      "         Gradient evaluations: 149\n",
      "                             OrderedModel Results                             \n",
      "==============================================================================\n",
      "Dep. Variable:                    DUR   Log-Likelihood:                -33057.\n",
      "Model:                   OrderedModel   AIC:                         6.619e+04\n",
      "Method:            Maximum Likelihood   BIC:                         6.650e+04\n",
      "Date:                Thu, 05 May 2022                                         \n",
      "Time:                        17:17:20                                         \n",
      "No. Observations:               51104                                         \n",
      "Df Residuals:                   51068                                         \n",
      "Df Model:                          36                                         \n",
      "===============================================================================\n",
      "                  coef    std err          z      P>|z|      [0.025      0.975]\n",
      "-------------------------------------------------------------------------------\n",
      "ZLB             0.1805        nan        nan        nan         nan         nan\n",
      "PEXP            0.0262        nan        nan        nan         nan         nan\n",
      "RINC            0.0242        nan        nan        nan         nan         nan\n",
      "RATEX           0.0441        nan        nan        nan         nan         nan\n",
      "BUS12           0.1218        nan        nan        nan         nan         nan\n",
      "BUS5            0.0625        nan        nan        nan         nan         nan\n",
      "UNEMP          -0.0757        nan        nan        nan         nan         nan\n",
      "PAGO            0.1238        nan        nan        nan         nan         nan\n",
      "GOVT            0.1077        nan        nan        nan         nan         nan\n",
      "BUS12AG         0.0013        nan        nan        nan         nan         nan\n",
      "PX1DISP        -0.0560        nan        nan        nan         nan         nan\n",
      "VXO            -0.0072        nan        nan        nan         nan         nan\n",
      "FFR             0.0131        nan        nan        nan         nan         nan\n",
      "UNRATE         -0.0834        nan        nan        nan         nan         nan\n",
      "INFLATION      -0.0161        nan        nan        nan         nan         nan\n",
      "INFLVOLA       -0.0233        nan        nan        nan         nan         nan\n",
      "CPIDURABLES     0.0054        nan        nan        nan         nan         nan\n",
      "SEX            -0.0787        nan        nan        nan         nan         nan\n",
      "MARRY          -0.0085        nan        nan        nan         nan         nan\n",
      "ECLGRD         -0.0388        nan        nan        nan         nan         nan\n",
      "AFRICAN         0.0073        nan        nan        nan         nan         nan\n",
      "HISPANIC       -0.1029        nan        nan        nan         nan         nan\n",
      "NATIVE         -0.1134        nan        nan        nan         nan         nan\n",
      "ASIAN          -0.1018        nan        nan        nan         nan         nan\n",
      "WEST           -0.0610        nan        nan        nan         nan         nan\n",
      "NORTHEAST      -0.0234        nan        nan        nan         nan         nan\n",
      "SOUTH          -0.0072        nan        nan        nan         nan         nan\n",
      "FAMSIZE        -0.0231        nan        nan        nan         nan         nan\n",
      "AGE            -0.0106        nan        nan        nan         nan         nan\n",
      "AGE2            0.0002        nan        nan        nan         nan         nan\n",
      "AGE3        -7.195e-07        nan        nan        nan         nan         nan\n",
      "INCOME          0.0481        nan        nan        nan         nan         nan\n",
      "PX5            -0.0006        nan        nan        nan         nan         nan\n",
      "PX5_ZLB        -0.0065        nan        nan        nan         nan         nan\n",
      "-1.0/0.0       -1.6950        nan        nan        nan         nan         nan\n",
      "0.0/1.0        -2.0063        nan        nan        nan         nan         nan\n",
      "===============================================================================\n"
     ]
    },
    {
     "name": "stderr",
     "output_type": "stream",
     "text": [
      "/Users/duncanblack/opt/anaconda3/lib/python3.9/site-packages/statsmodels/base/model.py:592: HessianInversionWarning: Inverting hessian failed, no bse or cov_params available\n",
      "  warnings.warn('Inverting hessian failed, no bse or cov_params '\n",
      "/Users/duncanblack/opt/anaconda3/lib/python3.9/site-packages/statsmodels/base/model.py:604: ConvergenceWarning: Maximum Likelihood optimization failed to converge. Check mle_retvals\n",
      "  warnings.warn(\"Maximum Likelihood optimization failed to \"\n"
     ]
    }
   ],
   "source": [
    "#5 year inflation expectations instead of one year\n",
    "model_data = model_data[cleaned_data[\"yyyymm\"] >= 199004]\n",
    "\n",
    "\n",
    "y = model_data[\"DUR\"]\n",
    "x = model_data.drop([\"DUR\"],axis=1)\n",
    "\n",
    "\n",
    "x = x.drop([\"PX1\",\"PX1_ZLB\"],axis = 1)\n",
    "x[\"PX5\"] = cleaned_data[\"PX5\"]\n",
    "x[\"PX5_ZLB\"] = x[\"PX5\"] * x[\"ZLB\"]\n",
    "\n",
    "model = OrderedModel(y,x,distr='probit',missing=\"drop\")\n",
    "res = model.fit(method='bfgs')\n",
    "print(res.summary())"
   ]
  },
  {
   "cell_type": "markdown",
   "id": "8751e913",
   "metadata": {},
   "source": [
    "## Cross Sectional Heterogenity"
   ]
  },
  {
   "cell_type": "code",
   "execution_count": 19,
   "id": "3a46afe4",
   "metadata": {},
   "outputs": [],
   "source": [
    "#Reset\n",
    "x = cleaned_data[pi+ocontrol+control]\n",
    "y = cleaned_data[\"DUR\"]\n",
    "model_data = pd.concat([x,y],axis=1)"
   ]
  },
  {
   "cell_type": "code",
   "execution_count": 20,
   "id": "3fc5dcd9",
   "metadata": {},
   "outputs": [
    {
     "name": "stdout",
     "output_type": "stream",
     "text": [
      "Warning: Desired error not necessarily achieved due to precision loss.\n",
      "         Current function value: 0.656830\n",
      "         Iterations: 34\n",
      "         Function evaluations: 90\n",
      "         Gradient evaluations: 80\n",
      "                             OrderedModel Results                             \n",
      "==============================================================================\n",
      "Dep. Variable:                    DUR   Log-Likelihood:                -17342.\n",
      "Model:                   OrderedModel   AIC:                         3.476e+04\n",
      "Method:            Maximum Likelihood   BIC:                         3.505e+04\n",
      "Date:                Thu, 05 May 2022                                         \n",
      "Time:                        17:02:50                                         \n",
      "No. Observations:               26403                                         \n",
      "Df Residuals:                   26367                                         \n",
      "Df Model:                          36                                         \n",
      "===============================================================================\n",
      "                  coef    std err          z      P>|z|      [0.025      0.975]\n",
      "-------------------------------------------------------------------------------\n",
      "PX1            -0.0005        nan        nan        nan         nan         nan\n",
      "PX1_ZLB        -0.0131        nan        nan        nan         nan         nan\n",
      "ZLB             0.1411        nan        nan        nan         nan         nan\n",
      "PEXP            0.0317        nan        nan        nan         nan         nan\n",
      "RINC            0.0288        nan        nan        nan         nan         nan\n",
      "RATEX           0.0494        nan        nan        nan         nan         nan\n",
      "BUS12           0.1192        nan        nan        nan         nan         nan\n",
      "BUS5            0.0779        nan        nan        nan         nan         nan\n",
      "UNEMP          -0.0778        nan        nan        nan         nan         nan\n",
      "PAGO            0.1163        nan        nan        nan         nan         nan\n",
      "GOVT            0.1188        nan        nan        nan         nan         nan\n",
      "BUS12AG         0.0009        nan        nan        nan         nan         nan\n",
      "PX1DISP        -0.0790        nan        nan        nan         nan         nan\n",
      "VXO            -0.0075        nan        nan        nan         nan         nan\n",
      "FFR             0.0059        nan        nan        nan         nan         nan\n",
      "UNRATE         -0.0689        nan        nan        nan         nan         nan\n",
      "INFLATION      -0.0107        nan        nan        nan         nan         nan\n",
      "INFLVOLA       -0.0243        nan        nan        nan         nan         nan\n",
      "CPIDURABLES     0.0055        nan        nan        nan         nan         nan\n",
      "SEX            -0.1470        nan        nan        nan         nan         nan\n",
      "MARRY           0.0141        nan        nan        nan         nan         nan\n",
      "ECLGRD         -0.0359        nan        nan        nan         nan         nan\n",
      "AFRICAN        -0.1346        nan        nan        nan         nan         nan\n",
      "HISPANIC       -0.1935        nan        nan        nan         nan         nan\n",
      "NATIVE         -0.0207        nan        nan        nan         nan         nan\n",
      "ASIAN          -0.2433        nan        nan        nan         nan         nan\n",
      "WEST           -0.0161        nan        nan        nan         nan         nan\n",
      "NORTHEAST       0.0046        nan        nan        nan         nan         nan\n",
      "SOUTH          -0.0278        nan        nan        nan         nan         nan\n",
      "FAMSIZE        -0.0322        nan        nan        nan         nan         nan\n",
      "AGE             0.0489        nan        nan        nan         nan         nan\n",
      "AGE2           -0.0009        nan        nan        nan         nan         nan\n",
      "AGE3         4.951e-06        nan        nan        nan         nan         nan\n",
      "INCOME          0.0623        nan        nan        nan         nan         nan\n",
      "-1.0/0.0       -0.6858        nan        nan        nan         nan         nan\n",
      "0.0/1.0        -1.9079        nan        nan        nan         nan         nan\n",
      "===============================================================================\n"
     ]
    },
    {
     "name": "stderr",
     "output_type": "stream",
     "text": [
      "/Users/duncanblack/opt/anaconda3/lib/python3.9/site-packages/statsmodels/base/model.py:592: HessianInversionWarning: Inverting hessian failed, no bse or cov_params available\n",
      "  warnings.warn('Inverting hessian failed, no bse or cov_params '\n",
      "/Users/duncanblack/opt/anaconda3/lib/python3.9/site-packages/statsmodels/base/model.py:604: ConvergenceWarning: Maximum Likelihood optimization failed to converge. Check mle_retvals\n",
      "  warnings.warn(\"Maximum Likelihood optimization failed to \"\n"
     ]
    }
   ],
   "source": [
    "#Old\n",
    "model_old = model_data[model_data[\"AGE\"] > 48]\n",
    "\n",
    "y = model_old[\"DUR\"]\n",
    "x = model_old.drop([\"DUR\"],axis=1)\n",
    "\n",
    "model = OrderedModel(y,x,distr='probit',missing=\"drop\")\n",
    "res = model.fit(method='bfgs')\n",
    "print(res.summary())"
   ]
  },
  {
   "cell_type": "code",
   "execution_count": 21,
   "id": "52400a8f",
   "metadata": {},
   "outputs": [
    {
     "name": "stdout",
     "output_type": "stream",
     "text": [
      "Warning: Desired error not necessarily achieved due to precision loss.\n",
      "         Current function value: 0.599963\n",
      "         Iterations: 108\n",
      "         Function evaluations: 161\n",
      "         Gradient evaluations: 149\n",
      "                             OrderedModel Results                             \n",
      "==============================================================================\n",
      "Dep. Variable:                    DUR   Log-Likelihood:                -23972.\n",
      "Model:                   OrderedModel   AIC:                         4.802e+04\n",
      "Method:            Maximum Likelihood   BIC:                         4.832e+04\n",
      "Date:                Thu, 05 May 2022                                         \n",
      "Time:                        17:03:34                                         \n",
      "No. Observations:               39955                                         \n",
      "Df Residuals:                   39919                                         \n",
      "Df Model:                          36                                         \n",
      "===============================================================================\n",
      "                  coef    std err          z      P>|z|      [0.025      0.975]\n",
      "-------------------------------------------------------------------------------\n",
      "PX1            -0.0019      0.002     -1.054      0.292      -0.006       0.002\n",
      "PX1_ZLB        -0.0079      0.005     -1.644      0.100      -0.017       0.002\n",
      "ZLB             0.0767      0.044      1.742      0.081      -0.010       0.163\n",
      "PEXP            0.0181      0.012      1.519      0.129      -0.005       0.041\n",
      "RINC            0.0216      0.010      2.057      0.040       0.001       0.042\n",
      "RATEX           0.0382      0.010      3.944      0.000       0.019       0.057\n",
      "BUS12           0.1334      0.009     15.356      0.000       0.116       0.150\n",
      "BUS5            0.0540      0.009      6.163      0.000       0.037       0.071\n",
      "UNEMP          -0.0540      0.012     -4.590      0.000      -0.077      -0.031\n",
      "PAGO            0.1210      0.009     14.173      0.000       0.104       0.138\n",
      "GOVT            0.1060      0.012      9.102      0.000       0.083       0.129\n",
      "BUS12AG         0.0022      0.000      5.017      0.000       0.001       0.003\n",
      "PX1DISP        -0.0792      0.020     -3.961      0.000      -0.118      -0.040\n",
      "VXO            -0.0039      0.001     -3.748      0.000      -0.006      -0.002\n",
      "FFR             0.0350      0.005      7.315      0.000       0.026       0.044\n",
      "UNRATE         -0.0417      0.009     -4.781      0.000      -0.059      -0.025\n",
      "INFLATION      -0.0390      0.009     -4.549      0.000      -0.056      -0.022\n",
      "INFLVOLA       -0.0119      0.010     -1.250      0.211      -0.031       0.007\n",
      "CPIDURABLES  4.985e-05      0.002      0.023      0.982      -0.004       0.004\n",
      "SEX            -0.0152      0.014     -1.056      0.291      -0.043       0.013\n",
      "MARRY          -0.0261      0.017     -1.494      0.135      -0.060       0.008\n",
      "ECLGRD         -0.0402      0.016     -2.552      0.011      -0.071      -0.009\n",
      "AFRICAN         0.0336      0.025      1.359      0.174      -0.015       0.082\n",
      "HISPANIC       -0.1013      0.029     -3.487      0.000      -0.158      -0.044\n",
      "NATIVE         -0.0086      0.071     -0.120      0.905      -0.149       0.131\n",
      "ASIAN          -0.0692      0.046     -1.499      0.134      -0.160       0.021\n",
      "WEST           -0.0458      0.021     -2.195      0.028      -0.087      -0.005\n",
      "NORTHEAST      -0.0103      0.021     -0.488      0.625      -0.051       0.031\n",
      "SOUTH           0.0069      0.018      0.375      0.708      -0.029       0.043\n",
      "FAMSIZE        -0.0155      0.005     -2.831      0.005      -0.026      -0.005\n",
      "AGE             0.0459      0.010      4.649      0.000       0.027       0.065\n",
      "AGE2           -0.0016      0.000     -6.951      0.000      -0.002      -0.001\n",
      "AGE3         1.681e-05   2.07e-06      8.111      0.000    1.28e-05    2.09e-05\n",
      "INCOME          0.0331      0.011      3.057      0.002       0.012       0.054\n",
      "-1.0/0.0       -0.9182      0.169     -5.427      0.000      -1.250      -0.587\n",
      "0.0/1.0        -2.1808      0.028    -78.388      0.000      -2.235      -2.126\n",
      "===============================================================================\n"
     ]
    },
    {
     "name": "stderr",
     "output_type": "stream",
     "text": [
      "/Users/duncanblack/opt/anaconda3/lib/python3.9/site-packages/statsmodels/base/model.py:604: ConvergenceWarning: Maximum Likelihood optimization failed to converge. Check mle_retvals\n",
      "  warnings.warn(\"Maximum Likelihood optimization failed to \"\n"
     ]
    }
   ],
   "source": [
    "#Young\n",
    "model_young = model_data[model_data[\"AGE\"] < 48]\n",
    "\n",
    "y = model_young[\"DUR\"]\n",
    "x = model_young.drop([\"DUR\"],axis=1)\n",
    "\n",
    "model = OrderedModel(y,x,distr='probit',missing=\"drop\")\n",
    "res = model.fit(method='bfgs')\n",
    "print(res.summary())"
   ]
  },
  {
   "cell_type": "code",
   "execution_count": 22,
   "id": "d97a0eee",
   "metadata": {},
   "outputs": [
    {
     "name": "stdout",
     "output_type": "stream",
     "text": [
      "Warning: Desired error not necessarily achieved due to precision loss.\n",
      "         Current function value: 0.627243\n",
      "         Iterations: 76\n",
      "         Function evaluations: 138\n",
      "         Gradient evaluations: 126\n",
      "                             OrderedModel Results                             \n",
      "==============================================================================\n",
      "Dep. Variable:                    DUR   Log-Likelihood:                -17193.\n",
      "Model:                   OrderedModel   AIC:                         3.446e+04\n",
      "Method:            Maximum Likelihood   BIC:                         3.474e+04\n",
      "Date:                Thu, 05 May 2022                                         \n",
      "Time:                        17:04:00                                         \n",
      "No. Observations:               27410                                         \n",
      "Df Residuals:                   27375                                         \n",
      "Df Model:                          35                                         \n",
      "===============================================================================\n",
      "                  coef    std err          z      P>|z|      [0.025      0.975]\n",
      "-------------------------------------------------------------------------------\n",
      "PX1             0.0022        nan        nan        nan         nan         nan\n",
      "PX1_ZLB        -0.0154        nan        nan        nan         nan         nan\n",
      "ZLB             0.2021        nan        nan        nan         nan         nan\n",
      "PEXP            0.0111        nan        nan        nan         nan         nan\n",
      "RINC            0.0227        nan        nan        nan         nan         nan\n",
      "RATEX           0.0452        nan        nan        nan         nan         nan\n",
      "BUS12           0.1518        nan        nan        nan         nan         nan\n",
      "BUS5            0.0645        nan        nan        nan         nan         nan\n",
      "UNEMP          -0.0744        nan        nan        nan         nan         nan\n",
      "PAGO            0.1299        nan        nan        nan         nan         nan\n",
      "GOVT            0.1156        nan        nan        nan         nan         nan\n",
      "BUS12AG         0.0029        nan        nan        nan         nan         nan\n",
      "PX1DISP        -0.0258        nan        nan        nan         nan         nan\n",
      "VXO            -0.0060        nan        nan        nan         nan         nan\n",
      "FFR             0.0214        nan        nan        nan         nan         nan\n",
      "UNRATE         -0.0551        nan        nan        nan         nan         nan\n",
      "INFLATION      -0.0121        nan        nan        nan         nan         nan\n",
      "INFLVOLA       -0.0223        nan        nan        nan         nan         nan\n",
      "CPIDURABLES     0.0009        nan        nan        nan         nan         nan\n",
      "SEX            -0.0726        nan        nan        nan         nan         nan\n",
      "MARRY           0.0134        nan        nan        nan         nan         nan\n",
      "AFRICAN        -0.0621        nan        nan        nan         nan         nan\n",
      "HISPANIC       -0.0734        nan        nan        nan         nan         nan\n",
      "NATIVE         -0.2015        nan        nan        nan         nan         nan\n",
      "ASIAN          -0.1743        nan        nan        nan         nan         nan\n",
      "WEST           -0.0223        nan        nan        nan         nan         nan\n",
      "NORTHEAST       0.0114        nan        nan        nan         nan         nan\n",
      "SOUTH           0.0175        nan        nan        nan         nan         nan\n",
      "FAMSIZE        -0.0171        nan        nan        nan         nan         nan\n",
      "AGE            -0.0296        nan        nan        nan         nan         nan\n",
      "AGE2            0.0006        nan        nan        nan         nan         nan\n",
      "AGE3         -3.14e-06        nan        nan        nan         nan         nan\n",
      "INCOME          0.0228        nan        nan        nan         nan         nan\n",
      "-1.0/0.0       -1.7184        nan        nan        nan         nan         nan\n",
      "0.0/1.0        -1.9141        nan        nan        nan         nan         nan\n",
      "===============================================================================\n"
     ]
    },
    {
     "name": "stderr",
     "output_type": "stream",
     "text": [
      "/Users/duncanblack/opt/anaconda3/lib/python3.9/site-packages/statsmodels/base/model.py:592: HessianInversionWarning: Inverting hessian failed, no bse or cov_params available\n",
      "  warnings.warn('Inverting hessian failed, no bse or cov_params '\n",
      "/Users/duncanblack/opt/anaconda3/lib/python3.9/site-packages/statsmodels/base/model.py:604: ConvergenceWarning: Maximum Likelihood optimization failed to converge. Check mle_retvals\n",
      "  warnings.warn(\"Maximum Likelihood optimization failed to \"\n"
     ]
    }
   ],
   "source": [
    "#College\n",
    "model_college = model_data[model_data[\"ECLGRD\"] == 1]\n",
    "model_college = model_college.drop([\"ECLGRD\"],axis = 1)\n",
    "\n",
    "y = model_college[\"DUR\"]\n",
    "x = model_college.drop([\"DUR\"],axis=1)\n",
    "\n",
    "model = OrderedModel(y,x,distr='probit',missing=\"drop\")\n",
    "res = model.fit(method='bfgs')\n",
    "print(res.summary())"
   ]
  },
  {
   "cell_type": "code",
   "execution_count": 23,
   "id": "26455da6",
   "metadata": {},
   "outputs": [
    {
     "name": "stdout",
     "output_type": "stream",
     "text": [
      "Warning: Desired error not necessarily achieved due to precision loss.\n",
      "         Current function value: 0.621198\n",
      "         Iterations: 69\n",
      "         Function evaluations: 127\n",
      "         Gradient evaluations: 115\n",
      "                             OrderedModel Results                             \n",
      "==============================================================================\n",
      "Dep. Variable:                    DUR   Log-Likelihood:                -25013.\n",
      "Model:                   OrderedModel   AIC:                         5.010e+04\n",
      "Method:            Maximum Likelihood   BIC:                         5.040e+04\n",
      "Date:                Thu, 05 May 2022                                         \n",
      "Time:                        17:04:35                                         \n",
      "No. Observations:               40265                                         \n",
      "Df Residuals:                   40230                                         \n",
      "Df Model:                          35                                         \n",
      "===============================================================================\n",
      "                  coef    std err          z      P>|z|      [0.025      0.975]\n",
      "-------------------------------------------------------------------------------\n",
      "PX1            -0.0026        nan        nan        nan         nan         nan\n",
      "PX1_ZLB        -0.0073        nan        nan        nan         nan         nan\n",
      "ZLB             0.0157        nan        nan        nan         nan         nan\n",
      "PEXP            0.0311        nan        nan        nan         nan         nan\n",
      "RINC            0.0244        nan        nan        nan         nan         nan\n",
      "RATEX           0.0418        nan        nan        nan         nan         nan\n",
      "BUS12           0.1134        nan        nan        nan         nan         nan\n",
      "BUS5            0.0620        nan        nan        nan         nan         nan\n",
      "UNEMP          -0.0578        nan        nan        nan         nan         nan\n",
      "PAGO            0.1129        nan        nan        nan         nan         nan\n",
      "GOVT            0.1081        nan        nan        nan         nan         nan\n",
      "BUS12AG         0.0012        nan        nan        nan         nan         nan\n",
      "PX1DISP        -0.1179        nan        nan        nan         nan         nan\n",
      "VXO            -0.0042        nan        nan        nan         nan         nan\n",
      "FFR             0.0227        nan        nan        nan         nan         nan\n",
      "UNRATE         -0.0439        nan        nan        nan         nan         nan\n",
      "INFLATION      -0.0280        nan        nan        nan         nan         nan\n",
      "INFLVOLA       -0.0118        nan        nan        nan         nan         nan\n",
      "CPIDURABLES     0.0014        nan        nan        nan         nan         nan\n",
      "SEX            -0.0643        nan        nan        nan         nan         nan\n",
      "MARRY          -0.0133        nan        nan        nan         nan         nan\n",
      "AFRICAN         0.0163        nan        nan        nan         nan         nan\n",
      "HISPANIC       -0.1294        nan        nan        nan         nan         nan\n",
      "NATIVE          0.0268        nan        nan        nan         nan         nan\n",
      "ASIAN          -0.0870        nan        nan        nan         nan         nan\n",
      "WEST           -0.0466        nan        nan        nan         nan         nan\n",
      "NORTHEAST      -0.0178        nan        nan        nan         nan         nan\n",
      "SOUTH          -0.0302        nan        nan        nan         nan         nan\n",
      "FAMSIZE        -0.0252        nan        nan        nan         nan         nan\n",
      "AGE             0.0045        nan        nan        nan         nan         nan\n",
      "AGE2           -0.0002        nan        nan        nan         nan         nan\n",
      "AGE3         1.345e-06        nan        nan        nan         nan         nan\n",
      "INCOME          0.0699        nan        nan        nan         nan         nan\n",
      "-1.0/0.0       -1.3801        nan        nan        nan         nan         nan\n",
      "0.0/1.0        -2.1598        nan        nan        nan         nan         nan\n",
      "===============================================================================\n"
     ]
    },
    {
     "name": "stderr",
     "output_type": "stream",
     "text": [
      "/Users/duncanblack/opt/anaconda3/lib/python3.9/site-packages/statsmodels/base/model.py:592: HessianInversionWarning: Inverting hessian failed, no bse or cov_params available\n",
      "  warnings.warn('Inverting hessian failed, no bse or cov_params '\n",
      "/Users/duncanblack/opt/anaconda3/lib/python3.9/site-packages/statsmodels/base/model.py:604: ConvergenceWarning: Maximum Likelihood optimization failed to converge. Check mle_retvals\n",
      "  warnings.warn(\"Maximum Likelihood optimization failed to \"\n"
     ]
    }
   ],
   "source": [
    "#No College\n",
    "model_nocollege = model_data[model_data[\"ECLGRD\"] == 0]\n",
    "model_nocollege = model_nocollege.drop([\"ECLGRD\"],axis = 1)\n",
    "\n",
    "y = model_nocollege[\"DUR\"]\n",
    "x = model_nocollege.drop([\"DUR\"],axis=1)\n",
    "\n",
    "model = OrderedModel(y,x,distr='probit',missing=\"drop\")\n",
    "res = model.fit(method='bfgs')\n",
    "print(res.summary())"
   ]
  },
  {
   "cell_type": "code",
   "execution_count": 24,
   "id": "932acc7d",
   "metadata": {},
   "outputs": [
    {
     "name": "stdout",
     "output_type": "stream",
     "text": [
      "Warning: Desired error not necessarily achieved due to precision loss.\n",
      "         Current function value: 0.636025\n",
      "         Iterations: 92\n",
      "         Function evaluations: 150\n",
      "         Gradient evaluations: 138\n",
      "                             OrderedModel Results                             \n",
      "==============================================================================\n",
      "Dep. Variable:                    DUR   Log-Likelihood:                -9998.9\n",
      "Model:                   OrderedModel   AIC:                         2.007e+04\n",
      "Method:            Maximum Likelihood   BIC:                         2.035e+04\n",
      "Date:                Thu, 05 May 2022                                         \n",
      "Time:                        17:04:52                                         \n",
      "No. Observations:               15721                                         \n",
      "Df Residuals:                   15685                                         \n",
      "Df Model:                          36                                         \n",
      "===============================================================================\n",
      "                  coef    std err          z      P>|z|      [0.025      0.975]\n",
      "-------------------------------------------------------------------------------\n",
      "PX1             0.0012        nan        nan        nan         nan         nan\n",
      "PX1_ZLB        -0.0199        nan        nan        nan         nan         nan\n",
      "ZLB             0.2433        nan        nan        nan         nan         nan\n",
      "PEXP            0.0105        nan        nan        nan         nan         nan\n",
      "RINC            0.0194        nan        nan        nan         nan         nan\n",
      "RATEX           0.0369        nan        nan        nan         nan         nan\n",
      "BUS12           0.1432        nan        nan        nan         nan         nan\n",
      "BUS5            0.0569        nan        nan        nan         nan         nan\n",
      "UNEMP          -0.1024        nan        nan        nan         nan         nan\n",
      "PAGO            0.1439        nan        nan        nan         nan         nan\n",
      "GOVT            0.0877        nan        nan        nan         nan         nan\n",
      "BUS12AG         0.0023        nan        nan        nan         nan         nan\n",
      "PX1DISP        -0.0016        nan        nan        nan         nan         nan\n",
      "VXO            -0.0069        nan        nan        nan         nan         nan\n",
      "FFR             0.0221        nan        nan        nan         nan         nan\n",
      "UNRATE         -0.0808        nan        nan        nan         nan         nan\n",
      "INFLATION      -0.0214        nan        nan        nan         nan         nan\n",
      "INFLVOLA       -0.0326        nan        nan        nan         nan         nan\n",
      "CPIDURABLES     0.0004        nan        nan        nan         nan         nan\n",
      "SEX            -0.1257        nan        nan        nan         nan         nan\n",
      "MARRY           0.0040        nan        nan        nan         nan         nan\n",
      "ECLGRD         -0.0076        nan        nan        nan         nan         nan\n",
      "AFRICAN        -0.0268        nan        nan        nan         nan         nan\n",
      "HISPANIC       -0.0465        nan        nan        nan         nan         nan\n",
      "NATIVE         -0.1933        nan        nan        nan         nan         nan\n",
      "ASIAN          -0.1337        nan        nan        nan         nan         nan\n",
      "WEST           -0.0397        nan        nan        nan         nan         nan\n",
      "NORTHEAST      -0.0022        nan        nan        nan         nan         nan\n",
      "SOUTH          -0.0164        nan        nan        nan         nan         nan\n",
      "FAMSIZE        -0.0251        nan        nan        nan         nan         nan\n",
      "AGE            -0.0168        nan        nan        nan         nan         nan\n",
      "AGE2            0.0003        nan        nan        nan         nan         nan\n",
      "AGE3        -1.951e-06        nan        nan        nan         nan         nan\n",
      "INCOME          0.0379        nan        nan        nan         nan         nan\n",
      "-1.0/0.0       -1.5730        nan        nan        nan         nan         nan\n",
      "0.0/1.0        -1.8847        nan        nan        nan         nan         nan\n",
      "===============================================================================\n"
     ]
    },
    {
     "name": "stderr",
     "output_type": "stream",
     "text": [
      "/Users/duncanblack/opt/anaconda3/lib/python3.9/site-packages/statsmodels/base/model.py:592: HessianInversionWarning: Inverting hessian failed, no bse or cov_params available\n",
      "  warnings.warn('Inverting hessian failed, no bse or cov_params '\n",
      "/Users/duncanblack/opt/anaconda3/lib/python3.9/site-packages/statsmodels/base/model.py:604: ConvergenceWarning: Maximum Likelihood optimization failed to converge. Check mle_retvals\n",
      "  warnings.warn(\"Maximum Likelihood optimization failed to \"\n"
     ]
    }
   ],
   "source": [
    "#Top 20% income\n",
    "model_top = model_data[cleaned_data[\"income\"] >= cleaned_data[\"income\"].quantile(q=0.8)]\n",
    "\n",
    "y = model_top[\"DUR\"]\n",
    "x = model_top.drop([\"DUR\"],axis=1)\n",
    "\n",
    "model = OrderedModel(y,x,distr='probit',missing=\"drop\")\n",
    "res = model.fit(method='bfgs')\n",
    "print(res.summary())"
   ]
  },
  {
   "cell_type": "code",
   "execution_count": 25,
   "id": "46a5476e",
   "metadata": {},
   "outputs": [
    {
     "name": "stdout",
     "output_type": "stream",
     "text": [
      "Warning: Desired error not necessarily achieved due to precision loss.\n",
      "         Current function value: 0.640286\n",
      "         Iterations: 71\n",
      "         Function evaluations: 146\n",
      "         Gradient evaluations: 134\n",
      "                             OrderedModel Results                             \n",
      "==============================================================================\n",
      "Dep. Variable:                    DUR   Log-Likelihood:                -7230.1\n",
      "Model:                   OrderedModel   AIC:                         1.453e+04\n",
      "Method:            Maximum Likelihood   BIC:                         1.480e+04\n",
      "Date:                Thu, 05 May 2022                                         \n",
      "Time:                        17:05:05                                         \n",
      "No. Observations:               11292                                         \n",
      "Df Residuals:                   11256                                         \n",
      "Df Model:                          36                                         \n",
      "===============================================================================\n",
      "                  coef    std err          z      P>|z|      [0.025      0.975]\n",
      "-------------------------------------------------------------------------------\n",
      "PX1            -0.0065        nan        nan        nan         nan         nan\n",
      "PX1_ZLB        -0.0086        nan        nan        nan         nan         nan\n",
      "ZLB             0.0386        nan        nan        nan         nan         nan\n",
      "PEXP            0.0622        nan        nan        nan         nan         nan\n",
      "RINC            0.0394        nan        nan        nan         nan         nan\n",
      "RATEX           0.0513        nan        nan        nan         nan         nan\n",
      "BUS12           0.1091        nan        nan        nan         nan         nan\n",
      "BUS5            0.0587        nan        nan        nan         nan         nan\n",
      "UNEMP          -0.0433        nan        nan        nan         nan         nan\n",
      "PAGO            0.1184        nan        nan        nan         nan         nan\n",
      "GOVT            0.1238        nan        nan        nan         nan         nan\n",
      "BUS12AG         0.0008        nan        nan        nan         nan         nan\n",
      "PX1DISP        -0.1233        nan        nan        nan         nan         nan\n",
      "VXO          1.848e-05        nan        nan        nan         nan         nan\n",
      "FFR             0.0048        nan        nan        nan         nan         nan\n",
      "UNRATE         -0.0582        nan        nan        nan         nan         nan\n",
      "INFLATION       0.0040        nan        nan        nan         nan         nan\n",
      "INFLVOLA       -0.0090        nan        nan        nan         nan         nan\n",
      "CPIDURABLES     0.0035        nan        nan        nan         nan         nan\n",
      "SEX             0.0170        nan        nan        nan         nan         nan\n",
      "MARRY          -0.0283        nan        nan        nan         nan         nan\n",
      "ECLGRD         -0.0688        nan        nan        nan         nan         nan\n",
      "AFRICAN        -0.0511        nan        nan        nan         nan         nan\n",
      "HISPANIC       -0.2407        nan        nan        nan         nan         nan\n",
      "NATIVE         -0.1132        nan        nan        nan         nan         nan\n",
      "ASIAN          -0.1233        nan        nan        nan         nan         nan\n",
      "WEST            0.0155        nan        nan        nan         nan         nan\n",
      "NORTHEAST       0.0090        nan        nan        nan         nan         nan\n",
      "SOUTH          -0.0539        nan        nan        nan         nan         nan\n",
      "FAMSIZE        -0.0196        nan        nan        nan         nan         nan\n",
      "AGE             0.0232        nan        nan        nan         nan         nan\n",
      "AGE2           -0.0006        nan        nan        nan         nan         nan\n",
      "AGE3         4.175e-06        nan        nan        nan         nan         nan\n",
      "INCOME          0.0987        nan        nan        nan         nan         nan\n",
      "-1.0/0.0       -1.0867        nan        nan        nan         nan         nan\n",
      "0.0/1.0        -2.3502        nan        nan        nan         nan         nan\n",
      "===============================================================================\n"
     ]
    },
    {
     "name": "stderr",
     "output_type": "stream",
     "text": [
      "/Users/duncanblack/opt/anaconda3/lib/python3.9/site-packages/statsmodels/base/model.py:592: HessianInversionWarning: Inverting hessian failed, no bse or cov_params available\n",
      "  warnings.warn('Inverting hessian failed, no bse or cov_params '\n",
      "/Users/duncanblack/opt/anaconda3/lib/python3.9/site-packages/statsmodels/base/model.py:604: ConvergenceWarning: Maximum Likelihood optimization failed to converge. Check mle_retvals\n",
      "  warnings.warn(\"Maximum Likelihood optimization failed to \"\n"
     ]
    }
   ],
   "source": [
    "#Bottom 20% income\n",
    "model_bottom = model_data[cleaned_data[\"income\"] <= cleaned_data[\"income\"].quantile(q=0.2)]\n",
    "\n",
    "y = model_bottom[\"DUR\"]\n",
    "x = model_bottom.drop([\"DUR\"],axis=1)\n",
    "\n",
    "model = OrderedModel(y,x,distr='probit',missing=\"drop\")\n",
    "res = model.fit(method='bfgs')\n",
    "print(res.summary())"
   ]
  },
  {
   "cell_type": "code",
   "execution_count": null,
   "id": "a6db8a12",
   "metadata": {},
   "outputs": [],
   "source": []
  },
  {
   "cell_type": "code",
   "execution_count": null,
   "id": "3a3b3f1b",
   "metadata": {},
   "outputs": [],
   "source": []
  },
  {
   "cell_type": "code",
   "execution_count": null,
   "id": "0884b151",
   "metadata": {},
   "outputs": [],
   "source": []
  },
  {
   "cell_type": "code",
   "execution_count": null,
   "id": "d23f010c",
   "metadata": {},
   "outputs": [],
   "source": []
  }
 ],
 "metadata": {
  "kernelspec": {
   "display_name": "Python 3 (ipykernel)",
   "language": "python",
   "name": "python3"
  },
  "language_info": {
   "codemirror_mode": {
    "name": "ipython",
    "version": 3
   },
   "file_extension": ".py",
   "mimetype": "text/x-python",
   "name": "python",
   "nbconvert_exporter": "python",
   "pygments_lexer": "ipython3",
   "version": "3.9.7"
  }
 },
 "nbformat": 4,
 "nbformat_minor": 5
}
