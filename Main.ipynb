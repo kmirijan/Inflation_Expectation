{
 "cells": [
  {
   "cell_type": "markdown",
   "id": "bdb27e70",
   "metadata": {},
   "source": [
    "# Replication of Regression from Inflation Expectation Paper"
   ]
  },
  {
   "cell_type": "markdown",
   "id": "fa898123",
   "metadata": {},
   "source": [
    "## Data"
   ]
  },
  {
   "cell_type": "code",
   "execution_count": 128,
   "id": "37c9113d",
   "metadata": {},
   "outputs": [],
   "source": [
    "import numpy as np\n",
    "import pandas as pd\n",
    "import scipy.stats as stats\n",
    "from statsmodels.miscmodels.ordinal_model import OrderedModel"
   ]
  },
  {
   "cell_type": "code",
   "execution_count": 129,
   "id": "2ee85f43",
   "metadata": {},
   "outputs": [],
   "source": [
    "#Read in data\n",
    "df=pd.read_csv(\"data/data.csv\")"
   ]
  },
  {
   "cell_type": "code",
   "execution_count": 130,
   "id": "af19338e",
   "metadata": {},
   "outputs": [],
   "source": [
    "#Period between 1984:1 to 2012:12\n",
    "cleaned_data=df[(df[\"yyyymm\"] >= 198401)&(df[\"yyyymm\"] <= 201212)]\n",
    "#Only keep first time responces\n",
    "cleaned_data=cleaned_data[cleaned_data[\"datepr\"].isnull()]"
   ]
  },
  {
   "cell_type": "code",
   "execution_count": 131,
   "id": "576753b8",
   "metadata": {},
   "outputs": [],
   "source": [
    "#Extra Transforms\n",
    "\n",
    "#Age\n",
    "cleaned_data[\"AGE2\"] = cleaned_data[\"AGE\"]*cleaned_data[\"AGE\"]\n",
    "cleaned_data[\"AGE3\"] = cleaned_data[\"AGE2\"]*cleaned_data[\"AGE\"]\n",
    "\n",
    "#Inflation DLZ\n",
    "cleaned_data[\"px1q2_ZLB\"] = cleaned_data[\"px1q2\"]*cleaned_data[\"ZLB\"]\n",
    "\n",
    "trans = [\"AGE2\",\"AGE3\",\"px1q2_DLZ\"]"
   ]
  },
  {
   "cell_type": "code",
   "execution_count": 132,
   "id": "a8c627f6",
   "metadata": {},
   "outputs": [],
   "source": [
    "#Inflation Expectation\n",
    "pi=[\"px1q2\",\"px1q2_ZLB\"]"
   ]
  },
  {
   "cell_type": "code",
   "execution_count": 133,
   "id": "71e39434",
   "metadata": {},
   "outputs": [],
   "source": [
    "#Control for demographics\n",
    "control = [\"SEX\",\"MARRY\",\"ECLGRD\",\"AFRICAN\",\"HISPANIC\",\"NATIVE\",\"ASIAN\",\"WEST\",\n",
    "       \"NORTHEAST\",\"SOUTH\",\"FAMSIZE\",\"AGE\",\"AGE2\",\"AGE3\",\"INCOME\"]"
   ]
  },
  {
   "cell_type": "code",
   "execution_count": 134,
   "id": "202fc7cf",
   "metadata": {},
   "outputs": [],
   "source": [
    "#other controls\n",
    "ocontrol = [\"ZLB\",\"PEXP\",\"RINC\",\"RATEX\",\"BUS12\",\"BUS5\",\"UNEMP\",\"PAGO\",\"GOVT\",\n",
    "            \"BUS12AG\",\"PX1DISP\",\"VXO\",\"FFR\",\"UNRATE\",\"INFLATION\",\"INFLVOLA\",\"CPIDURABLES\"]"
   ]
  },
  {
   "cell_type": "code",
   "execution_count": 135,
   "id": "5ed37f3b",
   "metadata": {},
   "outputs": [],
   "source": [
    "#Indep Variables\n",
    "x = cleaned_data[pi+ocontrol+control]"
   ]
  },
  {
   "cell_type": "code",
   "execution_count": 136,
   "id": "1a1e7126",
   "metadata": {},
   "outputs": [],
   "source": [
    "#Dependent Variable\n",
    "y = cleaned_data[\"DUR\"]"
   ]
  },
  {
   "cell_type": "markdown",
   "id": "89c8f628",
   "metadata": {},
   "source": [
    "## Probit Model"
   ]
  },
  {
   "cell_type": "code",
   "execution_count": 137,
   "id": "d17441fe",
   "metadata": {},
   "outputs": [],
   "source": [
    "model = OrderedModel(y+1,x,distr='probit',missing=\"drop\")"
   ]
  },
  {
   "cell_type": "code",
   "execution_count": 138,
   "id": "d1aaf462",
   "metadata": {},
   "outputs": [
    {
     "name": "stdout",
     "output_type": "stream",
     "text": [
      "Warning: Desired error not necessarily achieved due to precision loss.\n",
      "         Current function value: 0.637839\n",
      "         Iterations: 83\n",
      "         Function evaluations: 170\n",
      "         Gradient evaluations: 158\n"
     ]
    },
    {
     "name": "stderr",
     "output_type": "stream",
     "text": [
      "/Users/duncanblack/opt/anaconda3/lib/python3.9/site-packages/statsmodels/base/model.py:592: HessianInversionWarning: Inverting hessian failed, no bse or cov_params available\n",
      "  warnings.warn('Inverting hessian failed, no bse or cov_params '\n",
      "/Users/duncanblack/opt/anaconda3/lib/python3.9/site-packages/statsmodels/base/model.py:604: ConvergenceWarning: Maximum Likelihood optimization failed to converge. Check mle_retvals\n",
      "  warnings.warn(\"Maximum Likelihood optimization failed to \"\n"
     ]
    }
   ],
   "source": [
    "res = model.fit(method='bfgs')"
   ]
  },
  {
   "cell_type": "code",
   "execution_count": 139,
   "id": "7ed72fcb",
   "metadata": {},
   "outputs": [
    {
     "data": {
      "text/html": [
       "<table class=\"simpletable\">\n",
       "<caption>OrderedModel Results</caption>\n",
       "<tr>\n",
       "  <th>Dep. Variable:</th>            <td>DUR</td>        <th>  Log-Likelihood:    </th> <td> -39166.</td> \n",
       "</tr>\n",
       "<tr>\n",
       "  <th>Model:</th>               <td>OrderedModel</td>    <th>  AIC:               </th> <td>7.840e+04</td>\n",
       "</tr>\n",
       "<tr>\n",
       "  <th>Method:</th>           <td>Maximum Likelihood</td> <th>  BIC:               </th> <td>7.873e+04</td>\n",
       "</tr>\n",
       "<tr>\n",
       "  <th>Date:</th>              <td>Sat, 30 Apr 2022</td>  <th>                     </th>     <td> </td>    \n",
       "</tr>\n",
       "<tr>\n",
       "  <th>Time:</th>                  <td>14:02:31</td>      <th>                     </th>     <td> </td>    \n",
       "</tr>\n",
       "<tr>\n",
       "  <th>No. Observations:</th>       <td> 61404</td>       <th>                     </th>     <td> </td>    \n",
       "</tr>\n",
       "<tr>\n",
       "  <th>Df Residuals:</th>           <td> 61368</td>       <th>                     </th>     <td> </td>    \n",
       "</tr>\n",
       "<tr>\n",
       "  <th>Df Model:</th>               <td>    36</td>       <th>                     </th>     <td> </td>    \n",
       "</tr>\n",
       "</table>\n",
       "<table class=\"simpletable\">\n",
       "<tr>\n",
       "       <td></td>          <th>coef</th>     <th>std err</th>      <th>z</th>      <th>P>|z|</th>  <th>[0.025</th>    <th>0.975]</th>  \n",
       "</tr>\n",
       "<tr>\n",
       "  <th>px1q2</th>       <td>   -0.0011</td> <td>      nan</td> <td>      nan</td> <td>   nan</td> <td>      nan</td> <td>      nan</td>\n",
       "</tr>\n",
       "<tr>\n",
       "  <th>px1q2_ZLB</th>   <td>   -0.0012</td> <td>      nan</td> <td>      nan</td> <td>   nan</td> <td>      nan</td> <td>      nan</td>\n",
       "</tr>\n",
       "<tr>\n",
       "  <th>ZLB</th>         <td>    0.0652</td> <td>      nan</td> <td>      nan</td> <td>   nan</td> <td>      nan</td> <td>      nan</td>\n",
       "</tr>\n",
       "<tr>\n",
       "  <th>PEXP</th>        <td>    0.0241</td> <td>      nan</td> <td>      nan</td> <td>   nan</td> <td>      nan</td> <td>      nan</td>\n",
       "</tr>\n",
       "<tr>\n",
       "  <th>RINC</th>        <td>    0.0249</td> <td>      nan</td> <td>      nan</td> <td>   nan</td> <td>      nan</td> <td>      nan</td>\n",
       "</tr>\n",
       "<tr>\n",
       "  <th>RATEX</th>       <td>    0.0401</td> <td>      nan</td> <td>      nan</td> <td>   nan</td> <td>      nan</td> <td>      nan</td>\n",
       "</tr>\n",
       "<tr>\n",
       "  <th>BUS12</th>       <td>    0.1306</td> <td>      nan</td> <td>      nan</td> <td>   nan</td> <td>      nan</td> <td>      nan</td>\n",
       "</tr>\n",
       "<tr>\n",
       "  <th>BUS5</th>        <td>    0.0621</td> <td>      nan</td> <td>      nan</td> <td>   nan</td> <td>      nan</td> <td>      nan</td>\n",
       "</tr>\n",
       "<tr>\n",
       "  <th>UNEMP</th>       <td>   -0.0754</td> <td>      nan</td> <td>      nan</td> <td>   nan</td> <td>      nan</td> <td>      nan</td>\n",
       "</tr>\n",
       "<tr>\n",
       "  <th>PAGO</th>        <td>    0.1169</td> <td>      nan</td> <td>      nan</td> <td>   nan</td> <td>      nan</td> <td>      nan</td>\n",
       "</tr>\n",
       "<tr>\n",
       "  <th>GOVT</th>        <td>    0.1148</td> <td>      nan</td> <td>      nan</td> <td>   nan</td> <td>      nan</td> <td>      nan</td>\n",
       "</tr>\n",
       "<tr>\n",
       "  <th>BUS12AG</th>     <td>    0.0016</td> <td>      nan</td> <td>      nan</td> <td>   nan</td> <td>      nan</td> <td>      nan</td>\n",
       "</tr>\n",
       "<tr>\n",
       "  <th>PX1DISP</th>     <td>   -0.0851</td> <td>      nan</td> <td>      nan</td> <td>   nan</td> <td>      nan</td> <td>      nan</td>\n",
       "</tr>\n",
       "<tr>\n",
       "  <th>VXO</th>         <td>   -0.0052</td> <td>      nan</td> <td>      nan</td> <td>   nan</td> <td>      nan</td> <td>      nan</td>\n",
       "</tr>\n",
       "<tr>\n",
       "  <th>FFR</th>         <td>    0.0207</td> <td>      nan</td> <td>      nan</td> <td>   nan</td> <td>      nan</td> <td>      nan</td>\n",
       "</tr>\n",
       "<tr>\n",
       "  <th>UNRATE</th>      <td>   -0.0522</td> <td>      nan</td> <td>      nan</td> <td>   nan</td> <td>      nan</td> <td>      nan</td>\n",
       "</tr>\n",
       "<tr>\n",
       "  <th>INFLATION</th>   <td>   -0.0213</td> <td>      nan</td> <td>      nan</td> <td>   nan</td> <td>      nan</td> <td>      nan</td>\n",
       "</tr>\n",
       "<tr>\n",
       "  <th>INFLVOLA</th>    <td>   -0.0128</td> <td>      nan</td> <td>      nan</td> <td>   nan</td> <td>      nan</td> <td>      nan</td>\n",
       "</tr>\n",
       "<tr>\n",
       "  <th>CPIDURABLES</th> <td>    0.0022</td> <td>      nan</td> <td>      nan</td> <td>   nan</td> <td>      nan</td> <td>      nan</td>\n",
       "</tr>\n",
       "<tr>\n",
       "  <th>SEX</th>         <td>   -0.0724</td> <td>      nan</td> <td>      nan</td> <td>   nan</td> <td>      nan</td> <td>      nan</td>\n",
       "</tr>\n",
       "<tr>\n",
       "  <th>MARRY</th>       <td>   -0.0135</td> <td>      nan</td> <td>      nan</td> <td>   nan</td> <td>      nan</td> <td>      nan</td>\n",
       "</tr>\n",
       "<tr>\n",
       "  <th>ECLGRD</th>      <td>   -0.0319</td> <td>      nan</td> <td>      nan</td> <td>   nan</td> <td>      nan</td> <td>      nan</td>\n",
       "</tr>\n",
       "<tr>\n",
       "  <th>AFRICAN</th>     <td>   -0.0056</td> <td>      nan</td> <td>      nan</td> <td>   nan</td> <td>      nan</td> <td>      nan</td>\n",
       "</tr>\n",
       "<tr>\n",
       "  <th>HISPANIC</th>    <td>   -0.1571</td> <td>      nan</td> <td>      nan</td> <td>   nan</td> <td>      nan</td> <td>      nan</td>\n",
       "</tr>\n",
       "<tr>\n",
       "  <th>NATIVE</th>      <td>   -0.0734</td> <td>      nan</td> <td>      nan</td> <td>   nan</td> <td>      nan</td> <td>      nan</td>\n",
       "</tr>\n",
       "<tr>\n",
       "  <th>ASIAN</th>       <td>   -0.1530</td> <td>      nan</td> <td>      nan</td> <td>   nan</td> <td>      nan</td> <td>      nan</td>\n",
       "</tr>\n",
       "<tr>\n",
       "  <th>WEST</th>        <td>   -0.0289</td> <td>      nan</td> <td>      nan</td> <td>   nan</td> <td>      nan</td> <td>      nan</td>\n",
       "</tr>\n",
       "<tr>\n",
       "  <th>NORTHEAST</th>   <td>   -0.0106</td> <td>      nan</td> <td>      nan</td> <td>   nan</td> <td>      nan</td> <td>      nan</td>\n",
       "</tr>\n",
       "<tr>\n",
       "  <th>SOUTH</th>       <td>   -0.0160</td> <td>      nan</td> <td>      nan</td> <td>   nan</td> <td>      nan</td> <td>      nan</td>\n",
       "</tr>\n",
       "<tr>\n",
       "  <th>FAMSIZE</th>     <td>   -0.0195</td> <td>      nan</td> <td>      nan</td> <td>   nan</td> <td>      nan</td> <td>      nan</td>\n",
       "</tr>\n",
       "<tr>\n",
       "  <th>AGE</th>         <td>   -0.0143</td> <td>      nan</td> <td>      nan</td> <td>   nan</td> <td>      nan</td> <td>      nan</td>\n",
       "</tr>\n",
       "<tr>\n",
       "  <th>AGE2</th>        <td>    0.0002</td> <td>      nan</td> <td>      nan</td> <td>   nan</td> <td>      nan</td> <td>      nan</td>\n",
       "</tr>\n",
       "<tr>\n",
       "  <th>AGE3</th>        <td>-1.246e-06</td> <td>      nan</td> <td>      nan</td> <td>   nan</td> <td>      nan</td> <td>      nan</td>\n",
       "</tr>\n",
       "<tr>\n",
       "  <th>INCOME</th>      <td>    0.0567</td> <td>      nan</td> <td>      nan</td> <td>   nan</td> <td>      nan</td> <td>      nan</td>\n",
       "</tr>\n",
       "<tr>\n",
       "  <th>0.0/1.0</th>     <td>   -1.6248</td> <td>      nan</td> <td>      nan</td> <td>   nan</td> <td>      nan</td> <td>      nan</td>\n",
       "</tr>\n",
       "<tr>\n",
       "  <th>1.0/2.0</th>     <td>   -2.0347</td> <td>      nan</td> <td>      nan</td> <td>   nan</td> <td>      nan</td> <td>      nan</td>\n",
       "</tr>\n",
       "</table>"
      ],
      "text/plain": [
       "<class 'statsmodels.iolib.summary.Summary'>\n",
       "\"\"\"\n",
       "                             OrderedModel Results                             \n",
       "==============================================================================\n",
       "Dep. Variable:                    DUR   Log-Likelihood:                -39166.\n",
       "Model:                   OrderedModel   AIC:                         7.840e+04\n",
       "Method:            Maximum Likelihood   BIC:                         7.873e+04\n",
       "Date:                Sat, 30 Apr 2022                                         \n",
       "Time:                        14:02:31                                         \n",
       "No. Observations:               61404                                         \n",
       "Df Residuals:                   61368                                         \n",
       "Df Model:                          36                                         \n",
       "===============================================================================\n",
       "                  coef    std err          z      P>|z|      [0.025      0.975]\n",
       "-------------------------------------------------------------------------------\n",
       "px1q2          -0.0011        nan        nan        nan         nan         nan\n",
       "px1q2_ZLB      -0.0012        nan        nan        nan         nan         nan\n",
       "ZLB             0.0652        nan        nan        nan         nan         nan\n",
       "PEXP            0.0241        nan        nan        nan         nan         nan\n",
       "RINC            0.0249        nan        nan        nan         nan         nan\n",
       "RATEX           0.0401        nan        nan        nan         nan         nan\n",
       "BUS12           0.1306        nan        nan        nan         nan         nan\n",
       "BUS5            0.0621        nan        nan        nan         nan         nan\n",
       "UNEMP          -0.0754        nan        nan        nan         nan         nan\n",
       "PAGO            0.1169        nan        nan        nan         nan         nan\n",
       "GOVT            0.1148        nan        nan        nan         nan         nan\n",
       "BUS12AG         0.0016        nan        nan        nan         nan         nan\n",
       "PX1DISP        -0.0851        nan        nan        nan         nan         nan\n",
       "VXO            -0.0052        nan        nan        nan         nan         nan\n",
       "FFR             0.0207        nan        nan        nan         nan         nan\n",
       "UNRATE         -0.0522        nan        nan        nan         nan         nan\n",
       "INFLATION      -0.0213        nan        nan        nan         nan         nan\n",
       "INFLVOLA       -0.0128        nan        nan        nan         nan         nan\n",
       "CPIDURABLES     0.0022        nan        nan        nan         nan         nan\n",
       "SEX            -0.0724        nan        nan        nan         nan         nan\n",
       "MARRY          -0.0135        nan        nan        nan         nan         nan\n",
       "ECLGRD         -0.0319        nan        nan        nan         nan         nan\n",
       "AFRICAN        -0.0056        nan        nan        nan         nan         nan\n",
       "HISPANIC       -0.1571        nan        nan        nan         nan         nan\n",
       "NATIVE         -0.0734        nan        nan        nan         nan         nan\n",
       "ASIAN          -0.1530        nan        nan        nan         nan         nan\n",
       "WEST           -0.0289        nan        nan        nan         nan         nan\n",
       "NORTHEAST      -0.0106        nan        nan        nan         nan         nan\n",
       "SOUTH          -0.0160        nan        nan        nan         nan         nan\n",
       "FAMSIZE        -0.0195        nan        nan        nan         nan         nan\n",
       "AGE            -0.0143        nan        nan        nan         nan         nan\n",
       "AGE2            0.0002        nan        nan        nan         nan         nan\n",
       "AGE3        -1.246e-06        nan        nan        nan         nan         nan\n",
       "INCOME          0.0567        nan        nan        nan         nan         nan\n",
       "0.0/1.0        -1.6248        nan        nan        nan         nan         nan\n",
       "1.0/2.0        -2.0347        nan        nan        nan         nan         nan\n",
       "===============================================================================\n",
       "\"\"\""
      ]
     },
     "execution_count": 139,
     "metadata": {},
     "output_type": "execute_result"
    }
   ],
   "source": [
    "res.summary()"
   ]
  },
  {
   "cell_type": "code",
   "execution_count": 140,
   "id": "e93b914e",
   "metadata": {},
   "outputs": [
    {
     "data": {
      "text/plain": [
       "array([       -inf, -1.62475426, -1.49403325,         inf])"
      ]
     },
     "execution_count": 140,
     "metadata": {},
     "output_type": "execute_result"
    }
   ],
   "source": [
    "num_of_thresholds = 2\n",
    "model.transform_threshold_params(res.params[-num_of_thresholds:])"
   ]
  },
  {
   "cell_type": "code",
   "execution_count": null,
   "id": "c167eb1e",
   "metadata": {},
   "outputs": [],
   "source": []
  },
  {
   "cell_type": "code",
   "execution_count": null,
   "id": "14525b5e",
   "metadata": {},
   "outputs": [],
   "source": []
  }
 ],
 "metadata": {
  "kernelspec": {
   "display_name": "Python 3 (ipykernel)",
   "language": "python",
   "name": "python3"
  },
  "language_info": {
   "codemirror_mode": {
    "name": "ipython",
    "version": 3
   },
   "file_extension": ".py",
   "mimetype": "text/x-python",
   "name": "python",
   "nbconvert_exporter": "python",
   "pygments_lexer": "ipython3",
   "version": "3.9.7"
  }
 },
 "nbformat": 4,
 "nbformat_minor": 5
}
