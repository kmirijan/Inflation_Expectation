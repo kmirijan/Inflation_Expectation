{
 "cells": [
  {
   "cell_type": "markdown",
   "id": "bdb27e70",
   "metadata": {},
   "source": [
    "# Replication of Regression from Inflation Expectation Paper"
   ]
  },
  {
   "cell_type": "markdown",
   "id": "fa898123",
   "metadata": {},
   "source": [
    "## Data"
   ]
  },
  {
   "cell_type": "code",
   "execution_count": 1,
   "id": "37c9113d",
   "metadata": {},
   "outputs": [],
   "source": [
    "import numpy as np\n",
    "import pandas as pd\n",
    "import scipy.stats as stats\n",
    "import statsmodels\n",
    "import matplotlib.pyplot as plt\n",
    "import statsmodels.api as sm\n",
    "from statsmodels.miscmodels.ordinal_model import OrderedModel"
   ]
  },
  {
   "cell_type": "code",
   "execution_count": 2,
   "id": "2ee85f43",
   "metadata": {},
   "outputs": [],
   "source": [
    "#Read in data\n",
    "df=pd.read_csv(\"data/data.csv\")"
   ]
  },
  {
   "cell_type": "code",
   "execution_count": 3,
   "id": "af19338e",
   "metadata": {},
   "outputs": [],
   "source": [
    "#Period between 1984:1 to 2012:12\n",
    "cleaned_data=df[(df[\"yyyymm\"] >= 198401)&(df[\"yyyymm\"] <= 201212)]\n",
    "#Only keep first time responces\n",
    "cleaned_data=cleaned_data[cleaned_data[\"datepr\"].isnull()]"
   ]
  },
  {
   "cell_type": "code",
   "execution_count": 4,
   "id": "576753b8",
   "metadata": {},
   "outputs": [],
   "source": [
    "#Extra Transforms\n",
    "\n",
    "#Age\n",
    "cleaned_data[\"AGE2\"] = cleaned_data[\"AGE\"]*cleaned_data[\"AGE\"]\n",
    "cleaned_data[\"AGE3\"] = cleaned_data[\"AGE2\"]*cleaned_data[\"AGE\"]\n",
    "\n",
    "#Inflation DLZ\n",
    "cleaned_data[\"PX1_ZLB\"] = cleaned_data[\"PX1\"]*cleaned_data[\"ZLB\"]\n",
    "\n",
    "trans = [\"AGE2\",\"AGE3\",\"PX1_ZLB\"]"
   ]
  },
  {
   "cell_type": "code",
   "execution_count": 5,
   "id": "a8c627f6",
   "metadata": {},
   "outputs": [],
   "source": [
    "#Inflation Expectation\n",
    "pi=[\"PX1\",\"PX1_ZLB\"]"
   ]
  },
  {
   "cell_type": "code",
   "execution_count": 6,
   "id": "71e39434",
   "metadata": {},
   "outputs": [],
   "source": [
    "#Control for demographics\n",
    "\n",
    "#Age cubed left out for convergence issues. Has almost 0 effect\n",
    "control = [\"SEX\",\"MARRY\",\"ECLGRD\",\"AFRICAN\",\"HISPANIC\",\"NATIVE\",\"ASIAN\",\"WEST\",\n",
    "       \"NORTHEAST\",\"SOUTH\",\"FAMSIZE\",\"AGE\",\"AGE2\",\"INCOME\"]"
   ]
  },
  {
   "cell_type": "code",
   "execution_count": 7,
   "id": "202fc7cf",
   "metadata": {},
   "outputs": [],
   "source": [
    "#other controls\n",
    "ocontrol = [\"ZLB\",\"PEXP\",\"RINC\",\"RATEX\",\"BUS12\",\"BUS5\",\"UNEMP\",\"PAGO\",\"GOVT\",\n",
    "            \"BUS12AG\",\"PX1DISP\",\"VXO\",\"FFR\",\"UNRATE\",\"INFLATION\",\"INFLVOLA\",\"CPIDURABLES\"]"
   ]
  },
  {
   "cell_type": "code",
   "execution_count": 8,
   "id": "5ed37f3b",
   "metadata": {},
   "outputs": [],
   "source": [
    "#Indep Variables\n",
    "x = cleaned_data[pi+ocontrol+control]"
   ]
  },
  {
   "cell_type": "code",
   "execution_count": 9,
   "id": "1a1e7126",
   "metadata": {},
   "outputs": [],
   "source": [
    "#Dependent Variable\n",
    "y = cleaned_data[\"DUR\"]"
   ]
  },
  {
   "cell_type": "markdown",
   "id": "89c8f628",
   "metadata": {},
   "source": [
    "## Probit Model"
   ]
  },
  {
   "cell_type": "code",
   "execution_count": 10,
   "id": "d17441fe",
   "metadata": {},
   "outputs": [
    {
     "name": "stdout",
     "output_type": "stream",
     "text": [
      "Optimization terminated successfully.\n",
      "         Current function value: 0.624525\n",
      "         Iterations: 108\n",
      "         Function evaluations: 118\n",
      "         Gradient evaluations: 118\n",
      "                             OrderedModel Results                             \n",
      "==============================================================================\n",
      "Dep. Variable:                    DUR   Log-Likelihood:                -42265.\n",
      "Model:                   OrderedModel   AIC:                         8.460e+04\n",
      "Method:            Maximum Likelihood   BIC:                         8.492e+04\n",
      "Date:                Fri, 06 May 2022                                         \n",
      "Time:                        13:22:10                                         \n",
      "No. Observations:               67675                                         \n",
      "Df Residuals:                   67640                                         \n",
      "Df Model:                          35                                         \n",
      "===============================================================================\n",
      "                  coef    std err          z      P>|z|      [0.025      0.975]\n",
      "-------------------------------------------------------------------------------\n",
      "PX1            -0.0009      0.001     -0.632      0.527      -0.004       0.002\n",
      "PX1_ZLB        -0.0112      0.003     -3.644      0.000      -0.017      -0.005\n",
      "ZLB             0.1094      0.031      3.484      0.000       0.048       0.171\n",
      "PEXP            0.0252      0.009      2.771      0.006       0.007       0.043\n",
      "RINC            0.0211      0.008      2.550      0.011       0.005       0.037\n",
      "RATEX           0.0437      0.007      5.874      0.000       0.029       0.058\n",
      "BUS12           0.1293      0.007     18.999      0.000       0.116       0.143\n",
      "BUS5            0.0627      0.007      9.245      0.000       0.049       0.076\n",
      "UNEMP          -0.0652      0.009     -7.292      0.000      -0.083      -0.048\n",
      "PAGO            0.1191      0.007     17.636      0.000       0.106       0.132\n",
      "GOVT            0.1116      0.009     12.739      0.000       0.094       0.129\n",
      "BUS12AG         0.0018      0.000      5.479      0.000       0.001       0.002\n",
      "PX1DISP        -0.0803      0.015     -5.504      0.000      -0.109      -0.052\n",
      "VXO            -0.0051      0.001     -6.780      0.000      -0.007      -0.004\n",
      "FFR             0.0221      0.004      6.184      0.000       0.015       0.029\n",
      "UNRATE         -0.0503      0.006     -7.745      0.000      -0.063      -0.038\n",
      "INFLATION      -0.0221      0.006     -3.641      0.000      -0.034      -0.010\n",
      "INFLVOLA       -0.0172      0.007     -2.611      0.009      -0.030      -0.004\n",
      "CPIDURABLES     0.0016      0.002      0.962      0.336      -0.002       0.005\n",
      "SEX            -0.0700      0.011     -6.406      0.000      -0.091      -0.049\n",
      "MARRY          -0.0029      0.013     -0.221      0.825      -0.029       0.023\n",
      "ECLGRD         -0.0341      0.012     -2.855      0.004      -0.058      -0.011\n",
      "AFRICAN        -0.0126      0.020     -0.642      0.521      -0.051       0.026\n",
      "HISPANIC       -0.1191      0.025     -4.796      0.000      -0.168      -0.070\n",
      "NATIVE         -0.0387      0.055     -0.701      0.483      -0.147       0.069\n",
      "ASIAN          -0.1469      0.039     -3.761      0.000      -0.223      -0.070\n",
      "WEST           -0.0371      0.016     -2.343      0.019      -0.068      -0.006\n",
      "NORTHEAST      -0.0090      0.016     -0.560      0.576      -0.041       0.023\n",
      "SOUTH          -0.0126      0.014     -0.905      0.365      -0.040       0.015\n",
      "FAMSIZE        -0.0221      0.005     -4.692      0.000      -0.031      -0.013\n",
      "AGE            -0.0054      0.002     -2.796      0.005      -0.009      -0.002\n",
      "AGE2         5.424e-05   1.94e-05      2.798      0.005    1.62e-05    9.22e-05\n",
      "INCOME          0.0531      0.008      6.541      0.000       0.037       0.069\n",
      "-1.0/0.0       -1.4698      0.084    -17.602      0.000      -1.633      -1.306\n",
      "0.0/1.0        -2.0560      0.020   -103.949      0.000      -2.095      -2.017\n",
      "===============================================================================\n"
     ]
    }
   ],
   "source": [
    "model = OrderedModel(y,x,distr='probit',missing=\"drop\")\n",
    "res = model.fit(method='bfgs', maxiter = 500000)\n",
    "print(res.summary())"
   ]
  },
  {
   "cell_type": "code",
   "execution_count": 11,
   "id": "e93b914e",
   "metadata": {},
   "outputs": [
    {
     "data": {
      "text/plain": [
       "array([       -inf, -1.46981365, -1.34185356,         inf])"
      ]
     },
     "execution_count": 11,
     "metadata": {},
     "output_type": "execute_result"
    }
   ],
   "source": [
    "num_of_thresholds = 2\n",
    "model.transform_threshold_params(res.params[-num_of_thresholds:])"
   ]
  },
  {
   "cell_type": "markdown",
   "id": "5231ca78",
   "metadata": {},
   "source": [
    "# Robustness Checks"
   ]
  },
  {
   "cell_type": "markdown",
   "id": "176f4ae7",
   "metadata": {},
   "source": [
    "## Excluding Idiosyncratic Expecttions Controls"
   ]
  },
  {
   "cell_type": "code",
   "execution_count": 12,
   "id": "6f70b5fa",
   "metadata": {},
   "outputs": [],
   "source": [
    "model_data = pd.concat([x,y],axis=1)"
   ]
  },
  {
   "cell_type": "code",
   "execution_count": 13,
   "id": "8e202d4e",
   "metadata": {},
   "outputs": [
    {
     "name": "stdout",
     "output_type": "stream",
     "text": [
      "Optimization terminated successfully.\n",
      "         Current function value: 0.626448\n",
      "         Iterations: 101\n",
      "         Function evaluations: 109\n",
      "         Gradient evaluations: 109\n"
     ]
    }
   ],
   "source": [
    "#Excluding Policy Trust\n",
    "model_data = model_data.drop([\"GOVT\"],axis=1)\n",
    "y = model_data[\"DUR\"]\n",
    "x = model_data.drop([\"DUR\"],axis=1)\n",
    "\n",
    "model = OrderedModel(y,x,distr='probit',missing=\"drop\")\n",
    "res = model.fit(method='bfgs')\n",
    "#print(res.summary())"
   ]
  },
  {
   "cell_type": "code",
   "execution_count": 14,
   "id": "6b2cfed2",
   "metadata": {},
   "outputs": [
    {
     "name": "stdout",
     "output_type": "stream",
     "text": [
      "Optimization terminated successfully.\n",
      "         Current function value: 0.651363\n",
      "         Iterations: 93\n",
      "         Function evaluations: 100\n",
      "         Gradient evaluations: 100\n"
     ]
    }
   ],
   "source": [
    "#Excluding All idiosyncratic variables\n",
    "model_data = model_data.drop([\"PEXP\",\"RINC\",\"RATEX\",\"BUS12\",\"BUS5\",\"UNEMP\"],axis=1)\n",
    "y = model_data[\"DUR\"]\n",
    "x = model_data.drop([\"DUR\"],axis=1)\n",
    "\n",
    "model = OrderedModel(y,x,distr='probit',missing=\"drop\")\n",
    "res = model.fit(method='bfgs')\n",
    "#print(res.summary())"
   ]
  },
  {
   "cell_type": "code",
   "execution_count": 15,
   "id": "a635d6e6",
   "metadata": {},
   "outputs": [],
   "source": [
    "#Reset\n",
    "x = cleaned_data[pi+ocontrol+control]\n",
    "y = cleaned_data[\"DUR\"]\n",
    "model_data = pd.concat([x,y],axis=1)"
   ]
  },
  {
   "cell_type": "code",
   "execution_count": 16,
   "id": "5061fac1",
   "metadata": {},
   "outputs": [
    {
     "name": "stdout",
     "output_type": "stream",
     "text": [
      "Optimization terminated successfully.\n",
      "         Current function value: 0.677328\n",
      "         Iterations: 109\n",
      "         Function evaluations: 116\n",
      "         Gradient evaluations: 116\n"
     ]
    }
   ],
   "source": [
    "# With Gas Price Expectations, Home Ownership and sub prob\n",
    "model_data = pd.concat([cleaned_data[[\"GAS1\",\"HOMEOWN\",\"PINC2\",\"PJOB\"]],model_data], axis=1)\n",
    "model_data = model_data[cleaned_data[\"yyyymm\"] >= 199801]\n",
    "\n",
    "y = model_data[\"DUR\"]\n",
    "x = model_data.drop([\"DUR\"],axis=1)\n",
    "\n",
    "model = OrderedModel(y,x,distr='probit',missing=\"drop\")\n",
    "res = model.fit(method='bfgs')\n",
    "#print(res.summary())"
   ]
  },
  {
   "cell_type": "code",
   "execution_count": 17,
   "id": "1dcf989b",
   "metadata": {},
   "outputs": [],
   "source": [
    "#Reset\n",
    "x = cleaned_data[pi+ocontrol+control]\n",
    "y = cleaned_data[\"DUR\"]\n",
    "model_data = pd.concat([x,y],axis=1)"
   ]
  },
  {
   "cell_type": "code",
   "execution_count": 18,
   "id": "428d40b1",
   "metadata": {},
   "outputs": [
    {
     "name": "stdout",
     "output_type": "stream",
     "text": [
      "Optimization terminated successfully.\n",
      "         Current function value: 0.646885\n",
      "         Iterations: 98\n",
      "         Function evaluations: 106\n",
      "         Gradient evaluations: 106\n"
     ]
    }
   ],
   "source": [
    "#5 year inflation expectations instead of one year\n",
    "model_data = model_data[cleaned_data[\"yyyymm\"] >= 199004]\n",
    "\n",
    "\n",
    "y = model_data[\"DUR\"]\n",
    "x = model_data.drop([\"DUR\"],axis=1)\n",
    "\n",
    "\n",
    "x = x.drop([\"PX1\",\"PX1_ZLB\"],axis = 1)\n",
    "x[\"PX5\"] = cleaned_data[\"PX5\"]\n",
    "x[\"PX5_ZLB\"] = x[\"PX5\"] * x[\"ZLB\"]\n",
    "\n",
    "model = OrderedModel(y,x,distr='probit',missing=\"drop\")\n",
    "res = model.fit(method='bfgs')\n",
    "#print(res.summary())"
   ]
  },
  {
   "cell_type": "markdown",
   "id": "899b9652",
   "metadata": {},
   "source": [
    "## Cross Sectional Heterogenity"
   ]
  },
  {
   "cell_type": "code",
   "execution_count": 19,
   "id": "21aa235a",
   "metadata": {},
   "outputs": [],
   "source": [
    "#Reset\n",
    "x = cleaned_data[pi+ocontrol+control]\n",
    "y = cleaned_data[\"DUR\"]\n",
    "model_data = pd.concat([x,y],axis=1)"
   ]
  },
  {
   "cell_type": "code",
   "execution_count": 20,
   "id": "6efbcafc",
   "metadata": {},
   "outputs": [
    {
     "name": "stdout",
     "output_type": "stream",
     "text": [
      "Optimization terminated successfully.\n",
      "         Current function value: 0.656675\n",
      "         Iterations: 112\n",
      "         Function evaluations: 122\n",
      "         Gradient evaluations: 122\n"
     ]
    }
   ],
   "source": [
    "#Old\n",
    "model_old = model_data[model_data[\"AGE\"] > 48]\n",
    "\n",
    "y = model_old[\"DUR\"]\n",
    "x = model_old.drop([\"DUR\"],axis=1)\n",
    "\n",
    "model = OrderedModel(y,x,distr='probit',missing=\"drop\")\n",
    "res = model.fit(method='bfgs')\n",
    "#print(res.summary())"
   ]
  },
  {
   "cell_type": "code",
   "execution_count": 21,
   "id": "c74e26a4",
   "metadata": {},
   "outputs": [
    {
     "name": "stdout",
     "output_type": "stream",
     "text": [
      "Optimization terminated successfully.\n",
      "         Current function value: 0.599970\n",
      "         Iterations: 91\n",
      "         Function evaluations: 98\n",
      "         Gradient evaluations: 98\n"
     ]
    }
   ],
   "source": [
    "#Young\n",
    "model_young = model_data[model_data[\"AGE\"] < 48]\n",
    "\n",
    "y = model_young[\"DUR\"]\n",
    "x = model_young.drop([\"DUR\"],axis=1)\n",
    "\n",
    "model = OrderedModel(y,x,distr='probit',missing=\"drop\")\n",
    "res = model.fit(method='bfgs')\n",
    "#print(res.summary())"
   ]
  },
  {
   "cell_type": "code",
   "execution_count": 22,
   "id": "6c8265d6",
   "metadata": {},
   "outputs": [
    {
     "name": "stdout",
     "output_type": "stream",
     "text": [
      "Optimization terminated successfully.\n",
      "         Current function value: 0.627368\n",
      "         Iterations: 94\n",
      "         Function evaluations: 104\n",
      "         Gradient evaluations: 104\n"
     ]
    }
   ],
   "source": [
    "#College\n",
    "model_college = model_data[model_data[\"ECLGRD\"] == 1]\n",
    "model_college = model_college.drop([\"ECLGRD\"],axis = 1)\n",
    "\n",
    "y = model_college[\"DUR\"]\n",
    "x = model_college.drop([\"DUR\"],axis=1)\n",
    "\n",
    "model = OrderedModel(y,x,distr='probit',missing=\"drop\")\n",
    "res = model.fit(method='bfgs')\n",
    "#print(res.summary())"
   ]
  },
  {
   "cell_type": "code",
   "execution_count": 23,
   "id": "22e3e9db",
   "metadata": {},
   "outputs": [
    {
     "name": "stdout",
     "output_type": "stream",
     "text": [
      "Optimization terminated successfully.\n",
      "         Current function value: 0.621165\n",
      "         Iterations: 98\n",
      "         Function evaluations: 107\n",
      "         Gradient evaluations: 107\n"
     ]
    }
   ],
   "source": [
    "#No College\n",
    "model_nocollege = model_data[model_data[\"ECLGRD\"] == 0]\n",
    "model_nocollege = model_nocollege.drop([\"ECLGRD\"],axis = 1)\n",
    "\n",
    "y = model_nocollege[\"DUR\"]\n",
    "x = model_nocollege.drop([\"DUR\"],axis=1)\n",
    "\n",
    "model = OrderedModel(y,x,distr='probit',missing=\"drop\")\n",
    "res = model.fit(method='bfgs')\n",
    "#print(res.summary())"
   ]
  },
  {
   "cell_type": "code",
   "execution_count": 24,
   "id": "9e4aa5b0",
   "metadata": {},
   "outputs": [
    {
     "name": "stdout",
     "output_type": "stream",
     "text": [
      "Optimization terminated successfully.\n",
      "         Current function value: 0.636086\n",
      "         Iterations: 96\n",
      "         Function evaluations: 105\n",
      "         Gradient evaluations: 105\n"
     ]
    }
   ],
   "source": [
    "#Top 20% income\n",
    "model_top = model_data[cleaned_data[\"income\"] >= cleaned_data[\"income\"].quantile(q=0.8)]\n",
    "\n",
    "y = model_top[\"DUR\"]\n",
    "x = model_top.drop([\"DUR\"],axis=1)\n",
    "\n",
    "model = OrderedModel(y,x,distr='probit',missing=\"drop\")\n",
    "res = model.fit(method='bfgs')\n",
    "#print(res.summary())"
   ]
  },
  {
   "cell_type": "code",
   "execution_count": 25,
   "id": "89bcd9e6",
   "metadata": {},
   "outputs": [
    {
     "name": "stdout",
     "output_type": "stream",
     "text": [
      "Optimization terminated successfully.\n",
      "         Current function value: 0.640264\n",
      "         Iterations: 108\n",
      "         Function evaluations: 113\n",
      "         Gradient evaluations: 113\n"
     ]
    }
   ],
   "source": [
    "#Bottom 20% income\n",
    "model_bottom = model_data[cleaned_data[\"income\"] <= cleaned_data[\"income\"].quantile(q=0.2)]\n",
    "\n",
    "y = model_bottom[\"DUR\"]\n",
    "x = model_bottom.drop([\"DUR\"],axis=1)\n",
    "\n",
    "model = OrderedModel(y,x,distr='probit',missing=\"drop\")\n",
    "res = model.fit(method='bfgs')\n",
    "#print(res.summary())"
   ]
  },
  {
   "cell_type": "markdown",
   "id": "51241aac",
   "metadata": {},
   "source": [
    "# Further Robustness Tests"
   ]
  },
  {
   "cell_type": "markdown",
   "id": "4bdd5c19",
   "metadata": {},
   "source": [
    "## Residuals"
   ]
  },
  {
   "cell_type": "code",
   "execution_count": 26,
   "id": "d13e4b13",
   "metadata": {},
   "outputs": [],
   "source": [
    "#Reset\n",
    "x = cleaned_data[pi+ocontrol+control]\n",
    "y = cleaned_data[\"DUR\"]\n",
    "model_data = pd.concat([x,y],axis=1)"
   ]
  },
  {
   "cell_type": "code",
   "execution_count": null,
   "id": "534ace96",
   "metadata": {},
   "outputs": [
    {
     "name": "stdout",
     "output_type": "stream",
     "text": [
      "Optimization terminated successfully.\n",
      "         Current function value: 0.624525\n",
      "         Iterations: 108\n",
      "         Function evaluations: 118\n",
      "         Gradient evaluations: 118\n"
     ]
    }
   ],
   "source": [
    "#Model\n",
    "model = OrderedModel(y,x,distr='probit',missing=\"drop\")\n",
    "res = model.fit(method='bfgs')"
   ]
  },
  {
   "cell_type": "code",
   "execution_count": null,
   "id": "b9f736b5",
   "metadata": {},
   "outputs": [],
   "source": [
    "#Predict\n",
    "y_hat = res.predict(x)"
   ]
  },
  {
   "cell_type": "code",
   "execution_count": null,
   "id": "a6d56a53",
   "metadata": {},
   "outputs": [],
   "source": [
    "#Get avalible residuals\n",
    "y_hat = y_hat.dropna()\n",
    "y_real = y[y_hat.index]\n",
    "y_res = np.array((y_real+1))-np.array(y_hat).argmax(1)\n",
    "y_res = y_res[~np.isnan(y_res)]\n",
    "y_res = pd.DataFrame(y_res)"
   ]
  },
  {
   "cell_type": "code",
   "execution_count": null,
   "id": "e7de21cf",
   "metadata": {},
   "outputs": [],
   "source": [
    "#Note negative bias\n",
    "y_res.value_counts()"
   ]
  },
  {
   "cell_type": "markdown",
   "id": "4dcb9cc4",
   "metadata": {},
   "source": [
    "## Check OLS Fitting"
   ]
  },
  {
   "cell_type": "code",
   "execution_count": null,
   "id": "94f71532",
   "metadata": {},
   "outputs": [],
   "source": [
    "#Reset\n",
    "x = cleaned_data[pi+ocontrol+control]\n",
    "y = cleaned_data[\"DUR\"]\n",
    "model_data = pd.concat([x,y],axis=1)"
   ]
  },
  {
   "cell_type": "code",
   "execution_count": null,
   "id": "840a1ede",
   "metadata": {},
   "outputs": [],
   "source": [
    "mod = sm.OLS(y, x, missing=\"drop\")\n",
    "test=mod.fit()"
   ]
  },
  {
   "cell_type": "code",
   "execution_count": null,
   "id": "1316231d",
   "metadata": {},
   "outputs": [],
   "source": [
    "test.summary()"
   ]
  },
  {
   "cell_type": "code",
   "execution_count": null,
   "id": "1c3ab703",
   "metadata": {},
   "outputs": [],
   "source": []
  }
 ],
 "metadata": {
  "kernelspec": {
   "display_name": "Python 3 (ipykernel)",
   "language": "python",
   "name": "python3"
  },
  "language_info": {
   "codemirror_mode": {
    "name": "ipython",
    "version": 3
   },
   "file_extension": ".py",
   "mimetype": "text/x-python",
   "name": "python",
   "nbconvert_exporter": "python",
   "pygments_lexer": "ipython3",
   "version": "3.9.7"
  }
 },
 "nbformat": 4,
 "nbformat_minor": 5
}
